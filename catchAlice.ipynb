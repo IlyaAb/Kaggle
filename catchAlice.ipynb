{
 "metadata": {
  "language_info": {
   "codemirror_mode": {
    "name": "ipython",
    "version": 3
   },
   "file_extension": ".py",
   "mimetype": "text/x-python",
   "name": "python",
   "nbconvert_exporter": "python",
   "pygments_lexer": "ipython3",
   "version": "3.9.2-final"
  },
  "orig_nbformat": 2,
  "kernelspec": {
   "name": "python3",
   "display_name": "Python 3.9.2 64-bit",
   "metadata": {
    "interpreter": {
     "hash": "0c4ae07e6201a9646f982233620b6c46e5ada1f701acba0bbcad6b03cab1a2de"
    }
   }
  }
 },
 "nbformat": 4,
 "nbformat_minor": 2,
 "cells": [
  {
   "cell_type": "code",
   "execution_count": 3,
   "metadata": {},
   "outputs": [],
   "source": [
    "import pickle\n",
    "import numpy as np\n",
    "import pandas as pd\n",
    "# from tqdm import tqdm_notebook\n",
    "from scipy.sparse import csr_matrix, hstack\n",
    "from sklearn.preprocessing import StandardScaler\n",
    "from sklearn.metrics import roc_auc_score\n",
    "from sklearn.linear_model import LogisticRegression\n",
    "%matplotlib inline\n",
    "from matplotlib import pyplot as plt\n",
    "import seaborn as sns\n",
    "from sklearn.model_selection import train_test_split\n",
    "import scipy\n",
    "from sklearn.tree import DecisionTreeClassifier\n",
    "from sklearn.tree import DecisionTreeRegressor\n",
    "from sklearn.model_selection import GridSearchCV\n",
    "from sklearn.metrics import precision_score, recall_score, accuracy_score\n",
    "from sklearn.feature_extraction.text import CountVectorizer\n",
    "from scipy.sparse import csr_matrix\n"
   ]
  },
  {
   "cell_type": "code",
   "execution_count": 4,
   "metadata": {},
   "outputs": [
    {
     "output_type": "error",
     "ename": "FileNotFoundError",
     "evalue": "[Errno 2] No such file or directory: 'C:\\\\Users\\\\ILYA\\\\Downloads\\\\train_sessions.csv\\\\train_sessions.csv'",
     "traceback": [
      "\u001b[1;31m---------------------------------------------------------------------------\u001b[0m",
      "\u001b[1;31mFileNotFoundError\u001b[0m                         Traceback (most recent call last)",
      "\u001b[1;32m<ipython-input-4-ad09cc619a62>\u001b[0m in \u001b[0;36m<module>\u001b[1;34m\u001b[0m\n\u001b[1;32m----> 1\u001b[1;33m \u001b[0mtrain_df\u001b[0m \u001b[1;33m=\u001b[0m \u001b[0mpd\u001b[0m\u001b[1;33m.\u001b[0m\u001b[0mread_csv\u001b[0m\u001b[1;33m(\u001b[0m\u001b[1;34mr'C:\\Users\\ILYA\\Downloads\\train_sessions.csv\\train_sessions.csv'\u001b[0m\u001b[1;33m,\u001b[0m \u001b[0mindex_col\u001b[0m\u001b[1;33m=\u001b[0m\u001b[1;34m'session_id'\u001b[0m\u001b[1;33m)\u001b[0m\u001b[1;33m\u001b[0m\u001b[1;33m\u001b[0m\u001b[0m\n\u001b[0m\u001b[0;32m      2\u001b[0m \u001b[0mtest_df\u001b[0m \u001b[1;33m=\u001b[0m \u001b[0mpd\u001b[0m\u001b[1;33m.\u001b[0m\u001b[0mread_csv\u001b[0m\u001b[1;33m(\u001b[0m\u001b[1;34mr'C:\\Users\\ILYA\\Downloads\\test_sessions.csv\\test_sessions.csv'\u001b[0m\u001b[1;33m,\u001b[0m \u001b[0mindex_col\u001b[0m\u001b[1;33m=\u001b[0m\u001b[1;34m'session_id'\u001b[0m\u001b[1;33m)\u001b[0m\u001b[1;33m\u001b[0m\u001b[1;33m\u001b[0m\u001b[0m\n",
      "\u001b[1;32m~\\AppData\\Local\\Programs\\Python\\Python39\\lib\\site-packages\\pandas\\io\\parsers.py\u001b[0m in \u001b[0;36mread_csv\u001b[1;34m(filepath_or_buffer, sep, delimiter, header, names, index_col, usecols, squeeze, prefix, mangle_dupe_cols, dtype, engine, converters, true_values, false_values, skipinitialspace, skiprows, skipfooter, nrows, na_values, keep_default_na, na_filter, verbose, skip_blank_lines, parse_dates, infer_datetime_format, keep_date_col, date_parser, dayfirst, cache_dates, iterator, chunksize, compression, thousands, decimal, lineterminator, quotechar, quoting, doublequote, escapechar, comment, encoding, dialect, error_bad_lines, warn_bad_lines, delim_whitespace, low_memory, memory_map, float_precision, storage_options)\u001b[0m\n\u001b[0;32m    608\u001b[0m     \u001b[0mkwds\u001b[0m\u001b[1;33m.\u001b[0m\u001b[0mupdate\u001b[0m\u001b[1;33m(\u001b[0m\u001b[0mkwds_defaults\u001b[0m\u001b[1;33m)\u001b[0m\u001b[1;33m\u001b[0m\u001b[1;33m\u001b[0m\u001b[0m\n\u001b[0;32m    609\u001b[0m \u001b[1;33m\u001b[0m\u001b[0m\n\u001b[1;32m--> 610\u001b[1;33m     \u001b[1;32mreturn\u001b[0m \u001b[0m_read\u001b[0m\u001b[1;33m(\u001b[0m\u001b[0mfilepath_or_buffer\u001b[0m\u001b[1;33m,\u001b[0m \u001b[0mkwds\u001b[0m\u001b[1;33m)\u001b[0m\u001b[1;33m\u001b[0m\u001b[1;33m\u001b[0m\u001b[0m\n\u001b[0m\u001b[0;32m    611\u001b[0m \u001b[1;33m\u001b[0m\u001b[0m\n\u001b[0;32m    612\u001b[0m \u001b[1;33m\u001b[0m\u001b[0m\n",
      "\u001b[1;32m~\\AppData\\Local\\Programs\\Python\\Python39\\lib\\site-packages\\pandas\\io\\parsers.py\u001b[0m in \u001b[0;36m_read\u001b[1;34m(filepath_or_buffer, kwds)\u001b[0m\n\u001b[0;32m    460\u001b[0m \u001b[1;33m\u001b[0m\u001b[0m\n\u001b[0;32m    461\u001b[0m     \u001b[1;31m# Create the parser.\u001b[0m\u001b[1;33m\u001b[0m\u001b[1;33m\u001b[0m\u001b[1;33m\u001b[0m\u001b[0m\n\u001b[1;32m--> 462\u001b[1;33m     \u001b[0mparser\u001b[0m \u001b[1;33m=\u001b[0m \u001b[0mTextFileReader\u001b[0m\u001b[1;33m(\u001b[0m\u001b[0mfilepath_or_buffer\u001b[0m\u001b[1;33m,\u001b[0m \u001b[1;33m**\u001b[0m\u001b[0mkwds\u001b[0m\u001b[1;33m)\u001b[0m\u001b[1;33m\u001b[0m\u001b[1;33m\u001b[0m\u001b[0m\n\u001b[0m\u001b[0;32m    463\u001b[0m \u001b[1;33m\u001b[0m\u001b[0m\n\u001b[0;32m    464\u001b[0m     \u001b[1;32mif\u001b[0m \u001b[0mchunksize\u001b[0m \u001b[1;32mor\u001b[0m \u001b[0miterator\u001b[0m\u001b[1;33m:\u001b[0m\u001b[1;33m\u001b[0m\u001b[1;33m\u001b[0m\u001b[0m\n",
      "\u001b[1;32m~\\AppData\\Local\\Programs\\Python\\Python39\\lib\\site-packages\\pandas\\io\\parsers.py\u001b[0m in \u001b[0;36m__init__\u001b[1;34m(self, f, engine, **kwds)\u001b[0m\n\u001b[0;32m    817\u001b[0m             \u001b[0mself\u001b[0m\u001b[1;33m.\u001b[0m\u001b[0moptions\u001b[0m\u001b[1;33m[\u001b[0m\u001b[1;34m\"has_index_names\"\u001b[0m\u001b[1;33m]\u001b[0m \u001b[1;33m=\u001b[0m \u001b[0mkwds\u001b[0m\u001b[1;33m[\u001b[0m\u001b[1;34m\"has_index_names\"\u001b[0m\u001b[1;33m]\u001b[0m\u001b[1;33m\u001b[0m\u001b[1;33m\u001b[0m\u001b[0m\n\u001b[0;32m    818\u001b[0m \u001b[1;33m\u001b[0m\u001b[0m\n\u001b[1;32m--> 819\u001b[1;33m         \u001b[0mself\u001b[0m\u001b[1;33m.\u001b[0m\u001b[0m_engine\u001b[0m \u001b[1;33m=\u001b[0m \u001b[0mself\u001b[0m\u001b[1;33m.\u001b[0m\u001b[0m_make_engine\u001b[0m\u001b[1;33m(\u001b[0m\u001b[0mself\u001b[0m\u001b[1;33m.\u001b[0m\u001b[0mengine\u001b[0m\u001b[1;33m)\u001b[0m\u001b[1;33m\u001b[0m\u001b[1;33m\u001b[0m\u001b[0m\n\u001b[0m\u001b[0;32m    820\u001b[0m \u001b[1;33m\u001b[0m\u001b[0m\n\u001b[0;32m    821\u001b[0m     \u001b[1;32mdef\u001b[0m \u001b[0mclose\u001b[0m\u001b[1;33m(\u001b[0m\u001b[0mself\u001b[0m\u001b[1;33m)\u001b[0m\u001b[1;33m:\u001b[0m\u001b[1;33m\u001b[0m\u001b[1;33m\u001b[0m\u001b[0m\n",
      "\u001b[1;32m~\\AppData\\Local\\Programs\\Python\\Python39\\lib\\site-packages\\pandas\\io\\parsers.py\u001b[0m in \u001b[0;36m_make_engine\u001b[1;34m(self, engine)\u001b[0m\n\u001b[0;32m   1048\u001b[0m             )\n\u001b[0;32m   1049\u001b[0m         \u001b[1;31m# error: Too many arguments for \"ParserBase\"\u001b[0m\u001b[1;33m\u001b[0m\u001b[1;33m\u001b[0m\u001b[1;33m\u001b[0m\u001b[0m\n\u001b[1;32m-> 1050\u001b[1;33m         \u001b[1;32mreturn\u001b[0m \u001b[0mmapping\u001b[0m\u001b[1;33m[\u001b[0m\u001b[0mengine\u001b[0m\u001b[1;33m]\u001b[0m\u001b[1;33m(\u001b[0m\u001b[0mself\u001b[0m\u001b[1;33m.\u001b[0m\u001b[0mf\u001b[0m\u001b[1;33m,\u001b[0m \u001b[1;33m**\u001b[0m\u001b[0mself\u001b[0m\u001b[1;33m.\u001b[0m\u001b[0moptions\u001b[0m\u001b[1;33m)\u001b[0m  \u001b[1;31m# type: ignore[call-arg]\u001b[0m\u001b[1;33m\u001b[0m\u001b[1;33m\u001b[0m\u001b[0m\n\u001b[0m\u001b[0;32m   1051\u001b[0m \u001b[1;33m\u001b[0m\u001b[0m\n\u001b[0;32m   1052\u001b[0m     \u001b[1;32mdef\u001b[0m \u001b[0m_failover_to_python\u001b[0m\u001b[1;33m(\u001b[0m\u001b[0mself\u001b[0m\u001b[1;33m)\u001b[0m\u001b[1;33m:\u001b[0m\u001b[1;33m\u001b[0m\u001b[1;33m\u001b[0m\u001b[0m\n",
      "\u001b[1;32m~\\AppData\\Local\\Programs\\Python\\Python39\\lib\\site-packages\\pandas\\io\\parsers.py\u001b[0m in \u001b[0;36m__init__\u001b[1;34m(self, src, **kwds)\u001b[0m\n\u001b[0;32m   1865\u001b[0m \u001b[1;33m\u001b[0m\u001b[0m\n\u001b[0;32m   1866\u001b[0m         \u001b[1;31m# open handles\u001b[0m\u001b[1;33m\u001b[0m\u001b[1;33m\u001b[0m\u001b[1;33m\u001b[0m\u001b[0m\n\u001b[1;32m-> 1867\u001b[1;33m         \u001b[0mself\u001b[0m\u001b[1;33m.\u001b[0m\u001b[0m_open_handles\u001b[0m\u001b[1;33m(\u001b[0m\u001b[0msrc\u001b[0m\u001b[1;33m,\u001b[0m \u001b[0mkwds\u001b[0m\u001b[1;33m)\u001b[0m\u001b[1;33m\u001b[0m\u001b[1;33m\u001b[0m\u001b[0m\n\u001b[0m\u001b[0;32m   1868\u001b[0m         \u001b[1;32massert\u001b[0m \u001b[0mself\u001b[0m\u001b[1;33m.\u001b[0m\u001b[0mhandles\u001b[0m \u001b[1;32mis\u001b[0m \u001b[1;32mnot\u001b[0m \u001b[1;32mNone\u001b[0m\u001b[1;33m\u001b[0m\u001b[1;33m\u001b[0m\u001b[0m\n\u001b[0;32m   1869\u001b[0m         \u001b[1;32mfor\u001b[0m \u001b[0mkey\u001b[0m \u001b[1;32min\u001b[0m \u001b[1;33m(\u001b[0m\u001b[1;34m\"storage_options\"\u001b[0m\u001b[1;33m,\u001b[0m \u001b[1;34m\"encoding\"\u001b[0m\u001b[1;33m,\u001b[0m \u001b[1;34m\"memory_map\"\u001b[0m\u001b[1;33m,\u001b[0m \u001b[1;34m\"compression\"\u001b[0m\u001b[1;33m)\u001b[0m\u001b[1;33m:\u001b[0m\u001b[1;33m\u001b[0m\u001b[1;33m\u001b[0m\u001b[0m\n",
      "\u001b[1;32m~\\AppData\\Local\\Programs\\Python\\Python39\\lib\\site-packages\\pandas\\io\\parsers.py\u001b[0m in \u001b[0;36m_open_handles\u001b[1;34m(self, src, kwds)\u001b[0m\n\u001b[0;32m   1360\u001b[0m         \u001b[0mLet\u001b[0m \u001b[0mthe\u001b[0m \u001b[0mreaders\u001b[0m \u001b[0mopen\u001b[0m \u001b[0mIOHanldes\u001b[0m \u001b[0mafter\u001b[0m \u001b[0mthey\u001b[0m \u001b[0mare\u001b[0m \u001b[0mdone\u001b[0m \u001b[1;32mwith\u001b[0m \u001b[0mtheir\u001b[0m \u001b[0mpotential\u001b[0m \u001b[0mraises\u001b[0m\u001b[1;33m.\u001b[0m\u001b[1;33m\u001b[0m\u001b[1;33m\u001b[0m\u001b[0m\n\u001b[0;32m   1361\u001b[0m         \"\"\"\n\u001b[1;32m-> 1362\u001b[1;33m         self.handles = get_handle(\n\u001b[0m\u001b[0;32m   1363\u001b[0m             \u001b[0msrc\u001b[0m\u001b[1;33m,\u001b[0m\u001b[1;33m\u001b[0m\u001b[1;33m\u001b[0m\u001b[0m\n\u001b[0;32m   1364\u001b[0m             \u001b[1;34m\"r\"\u001b[0m\u001b[1;33m,\u001b[0m\u001b[1;33m\u001b[0m\u001b[1;33m\u001b[0m\u001b[0m\n",
      "\u001b[1;32m~\\AppData\\Local\\Programs\\Python\\Python39\\lib\\site-packages\\pandas\\io\\common.py\u001b[0m in \u001b[0;36mget_handle\u001b[1;34m(path_or_buf, mode, encoding, compression, memory_map, is_text, errors, storage_options)\u001b[0m\n\u001b[0;32m    640\u001b[0m                 \u001b[0merrors\u001b[0m \u001b[1;33m=\u001b[0m \u001b[1;34m\"replace\"\u001b[0m\u001b[1;33m\u001b[0m\u001b[1;33m\u001b[0m\u001b[0m\n\u001b[0;32m    641\u001b[0m             \u001b[1;31m# Encoding\u001b[0m\u001b[1;33m\u001b[0m\u001b[1;33m\u001b[0m\u001b[1;33m\u001b[0m\u001b[0m\n\u001b[1;32m--> 642\u001b[1;33m             handle = open(\n\u001b[0m\u001b[0;32m    643\u001b[0m                 \u001b[0mhandle\u001b[0m\u001b[1;33m,\u001b[0m\u001b[1;33m\u001b[0m\u001b[1;33m\u001b[0m\u001b[0m\n\u001b[0;32m    644\u001b[0m                 \u001b[0mioargs\u001b[0m\u001b[1;33m.\u001b[0m\u001b[0mmode\u001b[0m\u001b[1;33m,\u001b[0m\u001b[1;33m\u001b[0m\u001b[1;33m\u001b[0m\u001b[0m\n",
      "\u001b[1;31mFileNotFoundError\u001b[0m: [Errno 2] No such file or directory: 'C:\\\\Users\\\\ILYA\\\\Downloads\\\\train_sessions.csv\\\\train_sessions.csv'"
     ]
    }
   ],
   "source": [
    "train_df = pd.read_csv(r'C:\\Users\\ILYA\\Downloads\\train_sessions.csv\\train_sessions.csv', index_col='session_id')\n",
    "test_df = pd.read_csv(r'C:\\Users\\ILYA\\Downloads\\test_sessions.csv\\test_sessions.csv', index_col='session_id')"
   ]
  },
  {
   "cell_type": "code",
   "execution_count": 3,
   "metadata": {},
   "outputs": [
    {
     "output_type": "execute_result",
     "data": {
      "text/plain": [
       "            site1                time1    site2                time2    site3  \\\n",
       "session_id                                                                      \n",
       "1             718  2014-02-20 10:02:45      NaN                  NaN      NaN   \n",
       "2             890  2014-02-22 11:19:50    941.0  2014-02-22 11:19:50   3847.0   \n",
       "3           14769  2013-12-16 16:40:17     39.0  2013-12-16 16:40:18  14768.0   \n",
       "4             782  2014-03-28 10:52:12    782.0  2014-03-28 10:52:42    782.0   \n",
       "5              22  2014-02-28 10:53:05    177.0  2014-02-28 10:55:22    175.0   \n",
       "...           ...                  ...      ...                  ...      ...   \n",
       "253557       3474  2013-11-25 10:26:54   3474.0  2013-11-25 10:26:58    141.0   \n",
       "253558      12727  2013-03-12 16:01:15  12727.0  2013-03-12 16:01:16   2215.0   \n",
       "253559       2661  2013-09-12 14:05:03  15004.0  2013-09-12 14:05:10   5562.0   \n",
       "253560        812  2013-12-19 15:20:22    676.0  2013-12-19 15:20:22    814.0   \n",
       "253561      34942  2014-04-25 09:56:52   1429.0  2014-04-25 09:56:53  34942.0   \n",
       "\n",
       "                          time3    site4                time4   site5  \\\n",
       "session_id                                                              \n",
       "1                           NaN      NaN                  NaN     NaN   \n",
       "2           2014-02-22 11:19:51    941.0  2014-02-22 11:19:51   942.0   \n",
       "3           2013-12-16 16:40:19  14769.0  2013-12-16 16:40:19    37.0   \n",
       "4           2014-03-28 10:53:12    782.0  2014-03-28 10:53:42   782.0   \n",
       "5           2014-02-28 10:55:22    178.0  2014-02-28 10:55:23   177.0   \n",
       "...                         ...      ...                  ...     ...   \n",
       "253557      2013-11-25 10:27:03   2428.0  2013-11-25 10:27:04   106.0   \n",
       "253558      2013-03-12 16:01:16     38.0  2013-03-12 16:01:17  2215.0   \n",
       "253559      2013-09-12 14:05:10   5562.0  2013-09-12 14:06:29  5562.0   \n",
       "253560      2013-12-19 15:20:22     22.0  2013-12-19 15:20:22    39.0   \n",
       "253561      2014-04-25 09:56:53     29.0  2014-04-25 09:56:54    30.0   \n",
       "\n",
       "                          time5  ...                time6    site7  \\\n",
       "session_id                       ...                                 \n",
       "1                           NaN  ...                  NaN      NaN   \n",
       "2           2014-02-22 11:19:51  ...  2014-02-22 11:19:51   3847.0   \n",
       "3           2013-12-16 16:40:19  ...  2013-12-16 16:40:19  14768.0   \n",
       "4           2014-03-28 10:54:12  ...  2014-03-28 10:54:42    782.0   \n",
       "5           2014-02-28 10:55:23  ...  2014-02-28 10:55:59    175.0   \n",
       "...                         ...  ...                  ...      ...   \n",
       "253557      2013-11-25 10:27:13  ...  2013-11-25 10:27:16   2428.0   \n",
       "253558      2013-03-12 16:01:17  ...  2013-03-12 16:01:17  25444.0   \n",
       "253559      2013-09-12 14:06:30  ...                  NaN      NaN   \n",
       "253560      2013-12-19 15:20:22  ...  2013-12-19 15:20:23    814.0   \n",
       "253561      2014-04-25 09:56:54  ...  2014-04-25 09:56:54   5779.0   \n",
       "\n",
       "                          time7    site8                time8    site9  \\\n",
       "session_id                                                               \n",
       "1                           NaN      NaN                  NaN      NaN   \n",
       "2           2014-02-22 11:19:52   3846.0  2014-02-22 11:19:52   1516.0   \n",
       "3           2013-12-16 16:40:20  14768.0  2013-12-16 16:40:21  14768.0   \n",
       "4           2014-03-28 10:55:12    782.0  2014-03-28 10:55:42    782.0   \n",
       "5           2014-02-28 10:55:59    177.0  2014-02-28 10:55:59    177.0   \n",
       "...                         ...      ...                  ...      ...   \n",
       "253557      2013-11-25 10:27:28   2428.0  2013-11-25 10:27:40   2428.0   \n",
       "253558      2013-03-12 16:01:18   2215.0  2013-03-12 16:01:18     23.0   \n",
       "253559                      NaN      NaN                  NaN      NaN   \n",
       "253560      2013-12-19 15:20:23    570.0  2013-12-19 15:20:23     22.0   \n",
       "253561      2014-04-25 09:56:54     30.0  2014-04-25 09:56:55     35.0   \n",
       "\n",
       "                          time9   site10               time10 target  \n",
       "session_id                                                            \n",
       "1                           NaN      NaN                  NaN      0  \n",
       "2           2014-02-22 11:20:15   1518.0  2014-02-22 11:20:16      0  \n",
       "3           2013-12-16 16:40:22  14768.0  2013-12-16 16:40:24      0  \n",
       "4           2014-03-28 10:56:12    782.0  2014-03-28 10:56:42      0  \n",
       "5           2014-02-28 10:57:06    178.0  2014-02-28 10:57:11      0  \n",
       "...                         ...      ...                  ...    ...  \n",
       "253557      2013-11-25 10:27:52    148.0  2013-11-25 10:27:53      0  \n",
       "253558      2013-03-12 16:01:18     21.0  2013-03-12 16:01:18      0  \n",
       "253559                      NaN      NaN                  NaN      0  \n",
       "253560      2013-12-19 15:20:24    570.0  2013-12-19 15:20:24      0  \n",
       "253561      2014-04-25 09:56:55     33.0  2014-04-25 09:56:55      0  \n",
       "\n",
       "[253561 rows x 21 columns]"
      ],
      "text/html": "<div>\n<style scoped>\n    .dataframe tbody tr th:only-of-type {\n        vertical-align: middle;\n    }\n\n    .dataframe tbody tr th {\n        vertical-align: top;\n    }\n\n    .dataframe thead th {\n        text-align: right;\n    }\n</style>\n<table border=\"1\" class=\"dataframe\">\n  <thead>\n    <tr style=\"text-align: right;\">\n      <th></th>\n      <th>site1</th>\n      <th>time1</th>\n      <th>site2</th>\n      <th>time2</th>\n      <th>site3</th>\n      <th>time3</th>\n      <th>site4</th>\n      <th>time4</th>\n      <th>site5</th>\n      <th>time5</th>\n      <th>...</th>\n      <th>time6</th>\n      <th>site7</th>\n      <th>time7</th>\n      <th>site8</th>\n      <th>time8</th>\n      <th>site9</th>\n      <th>time9</th>\n      <th>site10</th>\n      <th>time10</th>\n      <th>target</th>\n    </tr>\n    <tr>\n      <th>session_id</th>\n      <th></th>\n      <th></th>\n      <th></th>\n      <th></th>\n      <th></th>\n      <th></th>\n      <th></th>\n      <th></th>\n      <th></th>\n      <th></th>\n      <th></th>\n      <th></th>\n      <th></th>\n      <th></th>\n      <th></th>\n      <th></th>\n      <th></th>\n      <th></th>\n      <th></th>\n      <th></th>\n      <th></th>\n    </tr>\n  </thead>\n  <tbody>\n    <tr>\n      <th>1</th>\n      <td>718</td>\n      <td>2014-02-20 10:02:45</td>\n      <td>NaN</td>\n      <td>NaN</td>\n      <td>NaN</td>\n      <td>NaN</td>\n      <td>NaN</td>\n      <td>NaN</td>\n      <td>NaN</td>\n      <td>NaN</td>\n      <td>...</td>\n      <td>NaN</td>\n      <td>NaN</td>\n      <td>NaN</td>\n      <td>NaN</td>\n      <td>NaN</td>\n      <td>NaN</td>\n      <td>NaN</td>\n      <td>NaN</td>\n      <td>NaN</td>\n      <td>0</td>\n    </tr>\n    <tr>\n      <th>2</th>\n      <td>890</td>\n      <td>2014-02-22 11:19:50</td>\n      <td>941.0</td>\n      <td>2014-02-22 11:19:50</td>\n      <td>3847.0</td>\n      <td>2014-02-22 11:19:51</td>\n      <td>941.0</td>\n      <td>2014-02-22 11:19:51</td>\n      <td>942.0</td>\n      <td>2014-02-22 11:19:51</td>\n      <td>...</td>\n      <td>2014-02-22 11:19:51</td>\n      <td>3847.0</td>\n      <td>2014-02-22 11:19:52</td>\n      <td>3846.0</td>\n      <td>2014-02-22 11:19:52</td>\n      <td>1516.0</td>\n      <td>2014-02-22 11:20:15</td>\n      <td>1518.0</td>\n      <td>2014-02-22 11:20:16</td>\n      <td>0</td>\n    </tr>\n    <tr>\n      <th>3</th>\n      <td>14769</td>\n      <td>2013-12-16 16:40:17</td>\n      <td>39.0</td>\n      <td>2013-12-16 16:40:18</td>\n      <td>14768.0</td>\n      <td>2013-12-16 16:40:19</td>\n      <td>14769.0</td>\n      <td>2013-12-16 16:40:19</td>\n      <td>37.0</td>\n      <td>2013-12-16 16:40:19</td>\n      <td>...</td>\n      <td>2013-12-16 16:40:19</td>\n      <td>14768.0</td>\n      <td>2013-12-16 16:40:20</td>\n      <td>14768.0</td>\n      <td>2013-12-16 16:40:21</td>\n      <td>14768.0</td>\n      <td>2013-12-16 16:40:22</td>\n      <td>14768.0</td>\n      <td>2013-12-16 16:40:24</td>\n      <td>0</td>\n    </tr>\n    <tr>\n      <th>4</th>\n      <td>782</td>\n      <td>2014-03-28 10:52:12</td>\n      <td>782.0</td>\n      <td>2014-03-28 10:52:42</td>\n      <td>782.0</td>\n      <td>2014-03-28 10:53:12</td>\n      <td>782.0</td>\n      <td>2014-03-28 10:53:42</td>\n      <td>782.0</td>\n      <td>2014-03-28 10:54:12</td>\n      <td>...</td>\n      <td>2014-03-28 10:54:42</td>\n      <td>782.0</td>\n      <td>2014-03-28 10:55:12</td>\n      <td>782.0</td>\n      <td>2014-03-28 10:55:42</td>\n      <td>782.0</td>\n      <td>2014-03-28 10:56:12</td>\n      <td>782.0</td>\n      <td>2014-03-28 10:56:42</td>\n      <td>0</td>\n    </tr>\n    <tr>\n      <th>5</th>\n      <td>22</td>\n      <td>2014-02-28 10:53:05</td>\n      <td>177.0</td>\n      <td>2014-02-28 10:55:22</td>\n      <td>175.0</td>\n      <td>2014-02-28 10:55:22</td>\n      <td>178.0</td>\n      <td>2014-02-28 10:55:23</td>\n      <td>177.0</td>\n      <td>2014-02-28 10:55:23</td>\n      <td>...</td>\n      <td>2014-02-28 10:55:59</td>\n      <td>175.0</td>\n      <td>2014-02-28 10:55:59</td>\n      <td>177.0</td>\n      <td>2014-02-28 10:55:59</td>\n      <td>177.0</td>\n      <td>2014-02-28 10:57:06</td>\n      <td>178.0</td>\n      <td>2014-02-28 10:57:11</td>\n      <td>0</td>\n    </tr>\n    <tr>\n      <th>...</th>\n      <td>...</td>\n      <td>...</td>\n      <td>...</td>\n      <td>...</td>\n      <td>...</td>\n      <td>...</td>\n      <td>...</td>\n      <td>...</td>\n      <td>...</td>\n      <td>...</td>\n      <td>...</td>\n      <td>...</td>\n      <td>...</td>\n      <td>...</td>\n      <td>...</td>\n      <td>...</td>\n      <td>...</td>\n      <td>...</td>\n      <td>...</td>\n      <td>...</td>\n      <td>...</td>\n    </tr>\n    <tr>\n      <th>253557</th>\n      <td>3474</td>\n      <td>2013-11-25 10:26:54</td>\n      <td>3474.0</td>\n      <td>2013-11-25 10:26:58</td>\n      <td>141.0</td>\n      <td>2013-11-25 10:27:03</td>\n      <td>2428.0</td>\n      <td>2013-11-25 10:27:04</td>\n      <td>106.0</td>\n      <td>2013-11-25 10:27:13</td>\n      <td>...</td>\n      <td>2013-11-25 10:27:16</td>\n      <td>2428.0</td>\n      <td>2013-11-25 10:27:28</td>\n      <td>2428.0</td>\n      <td>2013-11-25 10:27:40</td>\n      <td>2428.0</td>\n      <td>2013-11-25 10:27:52</td>\n      <td>148.0</td>\n      <td>2013-11-25 10:27:53</td>\n      <td>0</td>\n    </tr>\n    <tr>\n      <th>253558</th>\n      <td>12727</td>\n      <td>2013-03-12 16:01:15</td>\n      <td>12727.0</td>\n      <td>2013-03-12 16:01:16</td>\n      <td>2215.0</td>\n      <td>2013-03-12 16:01:16</td>\n      <td>38.0</td>\n      <td>2013-03-12 16:01:17</td>\n      <td>2215.0</td>\n      <td>2013-03-12 16:01:17</td>\n      <td>...</td>\n      <td>2013-03-12 16:01:17</td>\n      <td>25444.0</td>\n      <td>2013-03-12 16:01:18</td>\n      <td>2215.0</td>\n      <td>2013-03-12 16:01:18</td>\n      <td>23.0</td>\n      <td>2013-03-12 16:01:18</td>\n      <td>21.0</td>\n      <td>2013-03-12 16:01:18</td>\n      <td>0</td>\n    </tr>\n    <tr>\n      <th>253559</th>\n      <td>2661</td>\n      <td>2013-09-12 14:05:03</td>\n      <td>15004.0</td>\n      <td>2013-09-12 14:05:10</td>\n      <td>5562.0</td>\n      <td>2013-09-12 14:05:10</td>\n      <td>5562.0</td>\n      <td>2013-09-12 14:06:29</td>\n      <td>5562.0</td>\n      <td>2013-09-12 14:06:30</td>\n      <td>...</td>\n      <td>NaN</td>\n      <td>NaN</td>\n      <td>NaN</td>\n      <td>NaN</td>\n      <td>NaN</td>\n      <td>NaN</td>\n      <td>NaN</td>\n      <td>NaN</td>\n      <td>NaN</td>\n      <td>0</td>\n    </tr>\n    <tr>\n      <th>253560</th>\n      <td>812</td>\n      <td>2013-12-19 15:20:22</td>\n      <td>676.0</td>\n      <td>2013-12-19 15:20:22</td>\n      <td>814.0</td>\n      <td>2013-12-19 15:20:22</td>\n      <td>22.0</td>\n      <td>2013-12-19 15:20:22</td>\n      <td>39.0</td>\n      <td>2013-12-19 15:20:22</td>\n      <td>...</td>\n      <td>2013-12-19 15:20:23</td>\n      <td>814.0</td>\n      <td>2013-12-19 15:20:23</td>\n      <td>570.0</td>\n      <td>2013-12-19 15:20:23</td>\n      <td>22.0</td>\n      <td>2013-12-19 15:20:24</td>\n      <td>570.0</td>\n      <td>2013-12-19 15:20:24</td>\n      <td>0</td>\n    </tr>\n    <tr>\n      <th>253561</th>\n      <td>34942</td>\n      <td>2014-04-25 09:56:52</td>\n      <td>1429.0</td>\n      <td>2014-04-25 09:56:53</td>\n      <td>34942.0</td>\n      <td>2014-04-25 09:56:53</td>\n      <td>29.0</td>\n      <td>2014-04-25 09:56:54</td>\n      <td>30.0</td>\n      <td>2014-04-25 09:56:54</td>\n      <td>...</td>\n      <td>2014-04-25 09:56:54</td>\n      <td>5779.0</td>\n      <td>2014-04-25 09:56:54</td>\n      <td>30.0</td>\n      <td>2014-04-25 09:56:55</td>\n      <td>35.0</td>\n      <td>2014-04-25 09:56:55</td>\n      <td>33.0</td>\n      <td>2014-04-25 09:56:55</td>\n      <td>0</td>\n    </tr>\n  </tbody>\n</table>\n<p>253561 rows × 21 columns</p>\n</div>"
     },
     "metadata": {},
     "execution_count": 3
    }
   ],
   "source": [
    "train_df"
   ]
  },
  {
   "cell_type": "code",
   "execution_count": 232,
   "metadata": {},
   "outputs": [],
   "source": []
  },
  {
   "cell_type": "code",
   "execution_count": 4,
   "metadata": {},
   "outputs": [],
   "source": [
    "#Отбираем у данных для Х только сайты, без времени\n",
    "site = ['site%s' % i for i in range(1,11)]\n",
    "\n",
    "Xtr = train_df[site]\n",
    "\n",
    "Xte = test_df[site]\n",
    "\n",
    "\n",
    "#Замена пустых значений нулями \n",
    "Xtr = Xtr.fillna(0)\n",
    "Xte = Xte.fillna(0)\n",
    "\n",
    "y = train_df.target"
   ]
  },
  {
   "cell_type": "code",
   "execution_count": 42,
   "metadata": {},
   "outputs": [],
   "source": [
    "#Создание новой фичи  по первому посещению Time1 смотрим и масштабируем целиком время первого посещения \n",
    "#for train\n",
    "day1tr = pd.DataFrame({'day1': train_df['time1']})\n",
    "day1tr.day1 = day1tr.day1.apply(lambda x: x[:7].replace('-', '0')).astype(int).apply(lambda x: x/2.013710e+06)"
   ]
  },
  {
   "cell_type": "code",
   "execution_count": 40,
   "metadata": {},
   "outputs": [],
   "source": [
    "#for test\n",
    "day1te = pd.DataFrame({'day1': test_df['time1']})\n",
    "day1te.day1 = day1te.day1.apply(lambda x: x[:7].replace('-', '0')).astype(int).apply(lambda x: x/2.013710e+06)\n"
   ]
  },
  {
   "cell_type": "code",
   "execution_count": 69,
   "metadata": {},
   "outputs": [
    {
     "output_type": "execute_result",
     "data": {
      "text/plain": [
       "                day1\n",
       "session_id          \n",
       "1           1.000145\n",
       "2           1.000145\n",
       "3           0.999653\n",
       "4           1.000146\n",
       "5           1.000145"
      ],
      "text/html": "<div>\n<style scoped>\n    .dataframe tbody tr th:only-of-type {\n        vertical-align: middle;\n    }\n\n    .dataframe tbody tr th {\n        vertical-align: top;\n    }\n\n    .dataframe thead th {\n        text-align: right;\n    }\n</style>\n<table border=\"1\" class=\"dataframe\">\n  <thead>\n    <tr style=\"text-align: right;\">\n      <th></th>\n      <th>day1</th>\n    </tr>\n    <tr>\n      <th>session_id</th>\n      <th></th>\n    </tr>\n  </thead>\n  <tbody>\n    <tr>\n      <th>1</th>\n      <td>1.000145</td>\n    </tr>\n    <tr>\n      <th>2</th>\n      <td>1.000145</td>\n    </tr>\n    <tr>\n      <th>3</th>\n      <td>0.999653</td>\n    </tr>\n    <tr>\n      <th>4</th>\n      <td>1.000146</td>\n    </tr>\n    <tr>\n      <th>5</th>\n      <td>1.000145</td>\n    </tr>\n  </tbody>\n</table>\n</div>"
     },
     "metadata": {},
     "execution_count": 69
    }
   ],
   "source": [
    "#Cоздание единого датафрейма по фиче Day1 для fullds \n",
    "fullday1 = pd.concat([day1tr, day1te])\n",
    "fullday1.head()"
   ]
  },
  {
   "cell_type": "code",
   "execution_count": null,
   "metadata": {},
   "outputs": [],
   "source": []
  },
  {
   "cell_type": "code",
   "execution_count": 8,
   "metadata": {},
   "outputs": [],
   "source": [
    "#Создание фич про утро не утро первой сессии "
   ]
  },
  {
   "cell_type": "code",
   "execution_count": 43,
   "metadata": {},
   "outputs": [],
   "source": [
    "#Для train \n",
    "time1tr = pd.DataFrame({'time1': train_df['time1']})\n",
    "time1tr.time1 = time1tr.time1.apply(lambda x: x[11:13]).astype('int').apply(lambda x: 1 if x<11 else 0)"
   ]
  },
  {
   "cell_type": "code",
   "execution_count": 44,
   "metadata": {},
   "outputs": [],
   "source": [
    "#For TEst\n",
    "time1te = pd.DataFrame({'time1': test_df['time1']})\n",
    "time1te.time1 = time1te.time1.apply(lambda x: x[11:13]).astype('int').apply(lambda x: 1 if x<11 else 0)"
   ]
  },
  {
   "cell_type": "code",
   "execution_count": 45,
   "metadata": {},
   "outputs": [],
   "source": [
    "#Создание единого датафрейма для матрици\n",
    "time1full = pd.concat([time1tr, time1te])\n"
   ]
  },
  {
   "cell_type": "code",
   "execution_count": null,
   "metadata": {},
   "outputs": [],
   "source": []
  },
  {
   "cell_type": "code",
   "execution_count": 12,
   "metadata": {},
   "outputs": [],
   "source": [
    "#Фича про начало месяца \n",
    "#for Train \n",
    "month1tr = pd.DataFrame({'time1': train_df['time1']})\n",
    "month1tr.time1 = month1tr.time1.apply(lambda x: x[5:7]) #.astype('int').apply(lambda x: 1 if x<11 else 0)\n"
   ]
  },
  {
   "cell_type": "code",
   "execution_count": 34,
   "metadata": {},
   "outputs": [],
   "source": [
    "#for Test \n",
    "month1te = pd.DataFrame({'time1': test_df['time1']})\n",
    "month1te.time1 = month1te.time1.apply(lambda x: x[5:7]) #.astype('int').apply(lambda x: 1 if x<11 else 0)\n",
    "month1te = month1te.astype(int)"
   ]
  },
  {
   "cell_type": "code",
   "execution_count": 14,
   "metadata": {},
   "outputs": [],
   "source": [
    "#Создание одного дф по Первому месяцу для первой сессии \n",
    "fullmonth1 = pd.concat([month1tr, month1te]).astype(int)"
   ]
  },
  {
   "cell_type": "code",
   "execution_count": 15,
   "metadata": {},
   "outputs": [
    {
     "output_type": "execute_result",
     "data": {
      "text/plain": [
       "253561"
      ]
     },
     "metadata": {},
     "execution_count": 15
    }
   ],
   "source": [
    "#форма у полного игрика \n",
    "y.shape[0]"
   ]
  },
  {
   "cell_type": "code",
   "execution_count": 16,
   "metadata": {},
   "outputs": [],
   "source": [
    "#Создание единого датафрэйма"
   ]
  },
  {
   "cell_type": "code",
   "execution_count": 17,
   "metadata": {},
   "outputs": [
    {
     "output_type": "execute_result",
     "data": {
      "text/plain": [
       "            site1   site2    site3    site4   site5   site6    site7    site8  \\\n",
       "session_id                                                                      \n",
       "1             718     0.0      0.0      0.0     0.0     0.0      0.0      0.0   \n",
       "2             890   941.0   3847.0    941.0   942.0  3846.0   3847.0   3846.0   \n",
       "3           14769    39.0  14768.0  14769.0    37.0    39.0  14768.0  14768.0   \n",
       "4             782   782.0    782.0    782.0   782.0   782.0    782.0    782.0   \n",
       "5              22   177.0    175.0    178.0   177.0   178.0    175.0    177.0   \n",
       "...           ...     ...      ...      ...     ...     ...      ...      ...   \n",
       "82793         812  1039.0    676.0      0.0     0.0     0.0      0.0      0.0   \n",
       "82794         300   302.0    302.0    300.0   300.0  1222.0    302.0   1218.0   \n",
       "82795          29    33.0     35.0     22.0    37.0  6779.0     30.0     21.0   \n",
       "82796        5828    23.0     21.0    804.0    21.0  3350.0     23.0    894.0   \n",
       "82797          21  1098.0   1098.0   1098.0  1098.0  1098.0   1098.0   1098.0   \n",
       "\n",
       "              site9   site10  \n",
       "session_id                    \n",
       "1               0.0      0.0  \n",
       "2            1516.0   1518.0  \n",
       "3           14768.0  14768.0  \n",
       "4             782.0    782.0  \n",
       "5             177.0    178.0  \n",
       "...             ...      ...  \n",
       "82793           0.0      0.0  \n",
       "82794        1221.0   1216.0  \n",
       "82795          23.0   6780.0  \n",
       "82796          21.0    961.0  \n",
       "82797        1098.0   1098.0  \n",
       "\n",
       "[336358 rows x 10 columns]"
      ],
      "text/html": "<div>\n<style scoped>\n    .dataframe tbody tr th:only-of-type {\n        vertical-align: middle;\n    }\n\n    .dataframe tbody tr th {\n        vertical-align: top;\n    }\n\n    .dataframe thead th {\n        text-align: right;\n    }\n</style>\n<table border=\"1\" class=\"dataframe\">\n  <thead>\n    <tr style=\"text-align: right;\">\n      <th></th>\n      <th>site1</th>\n      <th>site2</th>\n      <th>site3</th>\n      <th>site4</th>\n      <th>site5</th>\n      <th>site6</th>\n      <th>site7</th>\n      <th>site8</th>\n      <th>site9</th>\n      <th>site10</th>\n    </tr>\n    <tr>\n      <th>session_id</th>\n      <th></th>\n      <th></th>\n      <th></th>\n      <th></th>\n      <th></th>\n      <th></th>\n      <th></th>\n      <th></th>\n      <th></th>\n      <th></th>\n    </tr>\n  </thead>\n  <tbody>\n    <tr>\n      <th>1</th>\n      <td>718</td>\n      <td>0.0</td>\n      <td>0.0</td>\n      <td>0.0</td>\n      <td>0.0</td>\n      <td>0.0</td>\n      <td>0.0</td>\n      <td>0.0</td>\n      <td>0.0</td>\n      <td>0.0</td>\n    </tr>\n    <tr>\n      <th>2</th>\n      <td>890</td>\n      <td>941.0</td>\n      <td>3847.0</td>\n      <td>941.0</td>\n      <td>942.0</td>\n      <td>3846.0</td>\n      <td>3847.0</td>\n      <td>3846.0</td>\n      <td>1516.0</td>\n      <td>1518.0</td>\n    </tr>\n    <tr>\n      <th>3</th>\n      <td>14769</td>\n      <td>39.0</td>\n      <td>14768.0</td>\n      <td>14769.0</td>\n      <td>37.0</td>\n      <td>39.0</td>\n      <td>14768.0</td>\n      <td>14768.0</td>\n      <td>14768.0</td>\n      <td>14768.0</td>\n    </tr>\n    <tr>\n      <th>4</th>\n      <td>782</td>\n      <td>782.0</td>\n      <td>782.0</td>\n      <td>782.0</td>\n      <td>782.0</td>\n      <td>782.0</td>\n      <td>782.0</td>\n      <td>782.0</td>\n      <td>782.0</td>\n      <td>782.0</td>\n    </tr>\n    <tr>\n      <th>5</th>\n      <td>22</td>\n      <td>177.0</td>\n      <td>175.0</td>\n      <td>178.0</td>\n      <td>177.0</td>\n      <td>178.0</td>\n      <td>175.0</td>\n      <td>177.0</td>\n      <td>177.0</td>\n      <td>178.0</td>\n    </tr>\n    <tr>\n      <th>...</th>\n      <td>...</td>\n      <td>...</td>\n      <td>...</td>\n      <td>...</td>\n      <td>...</td>\n      <td>...</td>\n      <td>...</td>\n      <td>...</td>\n      <td>...</td>\n      <td>...</td>\n    </tr>\n    <tr>\n      <th>82793</th>\n      <td>812</td>\n      <td>1039.0</td>\n      <td>676.0</td>\n      <td>0.0</td>\n      <td>0.0</td>\n      <td>0.0</td>\n      <td>0.0</td>\n      <td>0.0</td>\n      <td>0.0</td>\n      <td>0.0</td>\n    </tr>\n    <tr>\n      <th>82794</th>\n      <td>300</td>\n      <td>302.0</td>\n      <td>302.0</td>\n      <td>300.0</td>\n      <td>300.0</td>\n      <td>1222.0</td>\n      <td>302.0</td>\n      <td>1218.0</td>\n      <td>1221.0</td>\n      <td>1216.0</td>\n    </tr>\n    <tr>\n      <th>82795</th>\n      <td>29</td>\n      <td>33.0</td>\n      <td>35.0</td>\n      <td>22.0</td>\n      <td>37.0</td>\n      <td>6779.0</td>\n      <td>30.0</td>\n      <td>21.0</td>\n      <td>23.0</td>\n      <td>6780.0</td>\n    </tr>\n    <tr>\n      <th>82796</th>\n      <td>5828</td>\n      <td>23.0</td>\n      <td>21.0</td>\n      <td>804.0</td>\n      <td>21.0</td>\n      <td>3350.0</td>\n      <td>23.0</td>\n      <td>894.0</td>\n      <td>21.0</td>\n      <td>961.0</td>\n    </tr>\n    <tr>\n      <th>82797</th>\n      <td>21</td>\n      <td>1098.0</td>\n      <td>1098.0</td>\n      <td>1098.0</td>\n      <td>1098.0</td>\n      <td>1098.0</td>\n      <td>1098.0</td>\n      <td>1098.0</td>\n      <td>1098.0</td>\n      <td>1098.0</td>\n    </tr>\n  </tbody>\n</table>\n<p>336358 rows × 10 columns</p>\n</div>"
     },
     "metadata": {},
     "execution_count": 17
    }
   ],
   "source": [
    "full_df = pd.concat([Xtr, Xte])\n",
    "full_df"
   ]
  },
  {
   "cell_type": "code",
   "execution_count": null,
   "metadata": {},
   "outputs": [],
   "source": []
  },
  {
   "cell_type": "code",
   "execution_count": null,
   "metadata": {},
   "outputs": [],
   "source": []
  },
  {
   "cell_type": "code",
   "execution_count": 70,
   "metadata": {},
   "outputs": [],
   "source": [
    "all_values_of_full_df = full_df.values.flatten() #все значения в каждом столбце "
   ]
  },
  {
   "cell_type": "code",
   "execution_count": 71,
   "metadata": {},
   "outputs": [],
   "source": [
    "\n",
    "# искомая матрица\n",
    "Xoffulldf = csr_matrix( ([1] * all_values_of_full_df.shape[0],\n",
    "                                all_values_of_full_df,\n",
    "                                range(0, all_values_of_full_df.shape[0] + 10, 10))) [:, 1:]\n",
    "                                "
   ]
  },
  {
   "cell_type": "code",
   "execution_count": 72,
   "metadata": {},
   "outputs": [
    {
     "output_type": "execute_result",
     "data": {
      "text/plain": [
       "<336358x48371 sparse matrix of type '<class 'numpy.intc'>'\n",
       "\twith 3195430 stored elements in Compressed Sparse Row format>"
      ]
     },
     "metadata": {},
     "execution_count": 72
    }
   ],
   "source": [
    "Xoffulldf"
   ]
  },
  {
   "cell_type": "code",
   "execution_count": 73,
   "metadata": {},
   "outputs": [],
   "source": [
    "#Объединение матриц сайтов и значений первого включения time1 for train and test df + новая фича показывющая в целом весь первый день первой сессии\n",
    "Xoffulldf = csr_matrix(hstack([Xoffulldf, time1full, fullmonth1]))\n"
   ]
  },
  {
   "cell_type": "code",
   "execution_count": 74,
   "metadata": {},
   "outputs": [
    {
     "output_type": "execute_result",
     "data": {
      "text/plain": [
       "<336358x48373 sparse matrix of type '<class 'numpy.int64'>'\n",
       "\twith 2321223 stored elements in Compressed Sparse Row format>"
      ]
     },
     "metadata": {},
     "execution_count": 74
    }
   ],
   "source": [
    "Xoffulldf"
   ]
  },
  {
   "cell_type": "code",
   "execution_count": 75,
   "metadata": {},
   "outputs": [],
   "source": [
    "#Получили окончательный формат для Х и у над которыми можно колдовать"
   ]
  },
  {
   "cell_type": "code",
   "execution_count": 76,
   "metadata": {},
   "outputs": [],
   "source": [
    "X = Xoffulldf[:y.shape[0]] #вернули кол-во то что было в тестовой выборке"
   ]
  },
  {
   "cell_type": "code",
   "execution_count": 77,
   "metadata": {},
   "outputs": [
    {
     "output_type": "execute_result",
     "data": {
      "text/plain": [
       "<253561x48373 sparse matrix of type '<class 'numpy.int64'>'\n",
       "\twith 1774364 stored elements in Compressed Sparse Row format>"
      ]
     },
     "metadata": {},
     "execution_count": 77
    }
   ],
   "source": [
    "X"
   ]
  },
  {
   "cell_type": "code",
   "execution_count": 78,
   "metadata": {},
   "outputs": [
    {
     "output_type": "execute_result",
     "data": {
      "text/plain": [
       "session_id\n",
       "1         0\n",
       "2         0\n",
       "3         0\n",
       "4         0\n",
       "5         0\n",
       "         ..\n",
       "253557    0\n",
       "253558    0\n",
       "253559    0\n",
       "253560    0\n",
       "253561    0\n",
       "Name: target, Length: 253561, dtype: int64"
      ]
     },
     "metadata": {},
     "execution_count": 78
    }
   ],
   "source": [
    "y = train_df['target']\n",
    "y"
   ]
  },
  {
   "cell_type": "code",
   "execution_count": 79,
   "metadata": {},
   "outputs": [],
   "source": [
    "#Деление выборок на тренировку и тест и Разработка Логистической модели "
   ]
  },
  {
   "cell_type": "code",
   "execution_count": 80,
   "metadata": {},
   "outputs": [],
   "source": [
    "X_train, X_test, y_train, y_test = train_test_split(X, y, train_size=0.9, random_state=17)"
   ]
  },
  {
   "cell_type": "code",
   "execution_count": 81,
   "metadata": {},
   "outputs": [],
   "source": [
    "LogistRegr = LogisticRegression(C=1.0, n_jobs=-1)"
   ]
  },
  {
   "cell_type": "code",
   "execution_count": 82,
   "metadata": {},
   "outputs": [
    {
     "output_type": "stream",
     "name": "stdout",
     "text": [
      "Wall time: 7.04 s\n"
     ]
    },
    {
     "output_type": "execute_result",
     "data": {
      "text/plain": [
       "LogisticRegression(n_jobs=-1)"
      ]
     },
     "metadata": {},
     "execution_count": 82
    }
   ],
   "source": [
    "%%time\n",
    "LogistRegr.fit(X_train, y_train)"
   ]
  },
  {
   "cell_type": "code",
   "execution_count": 83,
   "metadata": {},
   "outputs": [
    {
     "output_type": "execute_result",
     "data": {
      "text/plain": [
       "array([4.00204308e-03, 4.36236482e-03, 4.90490275e-05, ...,\n",
       "       5.27020828e-04, 1.45858052e-04, 6.68338006e-07])"
      ]
     },
     "metadata": {},
     "execution_count": 83
    }
   ],
   "source": [
    "ypred = LogistRegr.predict_proba(X_test)[:,1]\n",
    "ypred"
   ]
  },
  {
   "cell_type": "code",
   "execution_count": 84,
   "metadata": {},
   "outputs": [
    {
     "output_type": "execute_result",
     "data": {
      "text/plain": [
       "0.9832282961136228"
      ]
     },
     "metadata": {},
     "execution_count": 84
    }
   ],
   "source": [
    "roc_auc_score(y_test, ypred)"
   ]
  },
  {
   "cell_type": "code",
   "execution_count": null,
   "metadata": {},
   "outputs": [],
   "source": []
  },
  {
   "cell_type": "code",
   "execution_count": 197,
   "metadata": {},
   "outputs": [],
   "source": [
    "#Досоздание матрица для соревнования на Kaggle \n"
   ]
  },
  {
   "cell_type": "code",
   "execution_count": 198,
   "metadata": {},
   "outputs": [],
   "source": [
    "#Х матрица для ТЕСТовых данных для предсказания "
   ]
  },
  {
   "cell_type": "code",
   "execution_count": 85,
   "metadata": {},
   "outputs": [],
   "source": [
    "test_values_of_full_df = Xte.values.flatten()\n"
   ]
  },
  {
   "cell_type": "code",
   "execution_count": 86,
   "metadata": {},
   "outputs": [],
   "source": [
    "XoftestDF = csr_matrix( ([1] * test_values_of_full_df.shape[0],\n",
    "                                test_values_of_full_df,\n",
    "                                range(0, test_values_of_full_df.shape[0] + 10, 10))) [:, 1:]\n",
    "\n",
    "XoftestDF = csr_matrix(hstack([XoftestDF,time1te, month1te])) #объединение матрицы + значений  времени для тестовой части + фичи day1 "
   ]
  },
  {
   "cell_type": "code",
   "execution_count": 87,
   "metadata": {},
   "outputs": [
    {
     "output_type": "execute_result",
     "data": {
      "text/plain": [
       "<82797x48373 sparse matrix of type '<class 'numpy.int64'>'\n",
       "\twith 546859 stored elements in Compressed Sparse Row format>"
      ]
     },
     "metadata": {},
     "execution_count": 87
    }
   ],
   "source": [
    "XoftestDF"
   ]
  },
  {
   "cell_type": "code",
   "execution_count": 88,
   "metadata": {},
   "outputs": [
    {
     "output_type": "execute_result",
     "data": {
      "text/plain": [
       "array([9.15097234e-03, 4.90653448e-11, 5.19025118e-11, ...,\n",
       "       1.52064413e-02, 2.06570447e-05, 2.29313613e-07])"
      ]
     },
     "metadata": {},
     "execution_count": 88
    }
   ],
   "source": [
    "yfinalpred = LogistRegr.predict_proba(XoftestDF)[:,1]\n",
    "yfinalpred"
   ]
  },
  {
   "cell_type": "code",
   "execution_count": 89,
   "metadata": {},
   "outputs": [],
   "source": [
    "#Создание таблицы для соревнования\n",
    "\n",
    "pd.DataFrame({'session_id': range(1, yfinalpred.shape[0] + 1), 'target': yfinalpred}).set_index('session_id').to_csv('Try10_Catch_Alice.csv')\n"
   ]
  },
  {
   "cell_type": "code",
   "execution_count": null,
   "metadata": {},
   "outputs": [],
   "source": []
  },
  {
   "cell_type": "code",
   "execution_count": 3,
   "metadata": {},
   "outputs": [
    {
     "output_type": "stream",
     "name": "stdout",
     "text": [
      "d\n"
     ]
    }
   ],
   "source": []
  },
  {
   "cell_type": "code",
   "execution_count": null,
   "metadata": {},
   "outputs": [],
   "source": [
    "edeede"
   ]
  }
 ]
}