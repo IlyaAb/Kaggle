{
 "metadata": {
  "language_info": {
   "codemirror_mode": {
    "name": "ipython",
    "version": 3
   },
   "file_extension": ".py",
   "mimetype": "text/x-python",
   "name": "python",
   "nbconvert_exporter": "python",
   "pygments_lexer": "ipython3",
   "version": "3.9.2-final"
  },
  "orig_nbformat": 2,
  "kernelspec": {
   "name": "python3",
   "display_name": "Python 3",
   "language": "python"
  }
 },
 "nbformat": 4,
 "nbformat_minor": 2,
 "cells": [
  {
   "cell_type": "code",
   "execution_count": 112,
   "metadata": {},
   "outputs": [],
   "source": [
    "\n",
    "import numpy as np\n",
    "import pandas as pd\n",
    "\n",
    "\n",
    "from scipy.sparse import csr_matrix, hstack\n",
    "from sklearn.preprocessing import StandardScaler\n",
    "from sklearn.metrics import roc_auc_score\n",
    "from sklearn import preprocessing\n",
    "from sklearn.linear_model import LogisticRegression, SGDRegressor\n",
    "from sklearn.linear_model import SGDClassifier\n",
    "%matplotlib inline\n",
    "from matplotlib import pyplot as plt\n",
    "import seaborn as sns\n",
    "from sklearn.model_selection import train_test_split\n",
    "import scipy\n",
    "from sklearn.tree import DecisionTreeClassifier\n",
    "from sklearn.tree import DecisionTreeRegressor\n",
    "from sklearn.model_selection import GridSearchCV\n",
    "from sklearn.metrics import precision_score, recall_score, accuracy_score\n",
    "from sklearn.feature_extraction.text import CountVectorizer\n",
    "from scipy.sparse import csr_matrix\n",
    "\n",
    "\n",
    "\n",
    "import datetime\n",
    "from sklearn.linear_model import LinearRegression, Lasso, Ridge, LassoCV, RidgeCV"
   ]
  },
  {
   "cell_type": "code",
   "execution_count": 2,
   "metadata": {},
   "outputs": [],
   "source": [
    "train_df = pd.read_csv(r'C:\\Users\\ILYA\\Downloads\\train_sessions.csv (1)\\train_sessions.csv', index_col='session_id')\n",
    "#D:\\Загрузки\\train_sessions.csv\\train_sessions.csv     из красного \n",
    "# C:\\Users\\ILYA\\Downloads\\train_sessions.csv (1)\\train_sessions.csv    из серого"
   ]
  },
  {
   "cell_type": "code",
   "execution_count": 3,
   "metadata": {},
   "outputs": [],
   "source": [
    "test_df = pd.read_csv(r'C:\\Users\\ILYA\\Downloads\\test_sessions.csv (1)\\test_sessions.csv', index_col='session_id')\n",
    "# D:\\Загрузки\\test_sessions.csv\\test_sessions.csv   из красного \n",
    "# C:\\Users\\ILYA\\Downloads\\test_sessions.csv (1)\\test_sessions.csv из серого "
   ]
  },
  {
   "cell_type": "code",
   "execution_count": 4,
   "metadata": {},
   "outputs": [],
   "source": [
    "# В обучающей выборке train_sessions.csv:\n",
    "\n",
    "# Признаки site_i – это индексы посещенных сайтов (расшифровка дана в pickle-файле со словарем site_dic.pkl)\n",
    "# Признаки time_j – время посещения сайтов site_j\n",
    "# Целевой признак target – факт того, что сессия принадлежит Элис (то есть что именно Элис ходила по всем этим сайтам)"
   ]
  },
  {
   "cell_type": "code",
   "execution_count": 5,
   "metadata": {},
   "outputs": [
    {
     "output_type": "execute_result",
     "data": {
      "text/plain": [
       "            site1                time1  site2                time2    site3  \\\n",
       "session_id                                                                    \n",
       "1             718  2014-02-20 10:02:45    NaN                  NaN      NaN   \n",
       "2             890  2014-02-22 11:19:50  941.0  2014-02-22 11:19:50   3847.0   \n",
       "3           14769  2013-12-16 16:40:17   39.0  2013-12-16 16:40:18  14768.0   \n",
       "4             782  2014-03-28 10:52:12  782.0  2014-03-28 10:52:42    782.0   \n",
       "5              22  2014-02-28 10:53:05  177.0  2014-02-28 10:55:22    175.0   \n",
       "\n",
       "                          time3    site4                time4  site5  \\\n",
       "session_id                                                             \n",
       "1                           NaN      NaN                  NaN    NaN   \n",
       "2           2014-02-22 11:19:51    941.0  2014-02-22 11:19:51  942.0   \n",
       "3           2013-12-16 16:40:19  14769.0  2013-12-16 16:40:19   37.0   \n",
       "4           2014-03-28 10:53:12    782.0  2014-03-28 10:53:42  782.0   \n",
       "5           2014-02-28 10:55:22    178.0  2014-02-28 10:55:23  177.0   \n",
       "\n",
       "                          time5  ...                time6    site7  \\\n",
       "session_id                       ...                                 \n",
       "1                           NaN  ...                  NaN      NaN   \n",
       "2           2014-02-22 11:19:51  ...  2014-02-22 11:19:51   3847.0   \n",
       "3           2013-12-16 16:40:19  ...  2013-12-16 16:40:19  14768.0   \n",
       "4           2014-03-28 10:54:12  ...  2014-03-28 10:54:42    782.0   \n",
       "5           2014-02-28 10:55:23  ...  2014-02-28 10:55:59    175.0   \n",
       "\n",
       "                          time7    site8                time8    site9  \\\n",
       "session_id                                                               \n",
       "1                           NaN      NaN                  NaN      NaN   \n",
       "2           2014-02-22 11:19:52   3846.0  2014-02-22 11:19:52   1516.0   \n",
       "3           2013-12-16 16:40:20  14768.0  2013-12-16 16:40:21  14768.0   \n",
       "4           2014-03-28 10:55:12    782.0  2014-03-28 10:55:42    782.0   \n",
       "5           2014-02-28 10:55:59    177.0  2014-02-28 10:55:59    177.0   \n",
       "\n",
       "                          time9   site10               time10 target  \n",
       "session_id                                                            \n",
       "1                           NaN      NaN                  NaN      0  \n",
       "2           2014-02-22 11:20:15   1518.0  2014-02-22 11:20:16      0  \n",
       "3           2013-12-16 16:40:22  14768.0  2013-12-16 16:40:24      0  \n",
       "4           2014-03-28 10:56:12    782.0  2014-03-28 10:56:42      0  \n",
       "5           2014-02-28 10:57:06    178.0  2014-02-28 10:57:11      0  \n",
       "\n",
       "[5 rows x 21 columns]"
      ],
      "text/html": "<div>\n<style scoped>\n    .dataframe tbody tr th:only-of-type {\n        vertical-align: middle;\n    }\n\n    .dataframe tbody tr th {\n        vertical-align: top;\n    }\n\n    .dataframe thead th {\n        text-align: right;\n    }\n</style>\n<table border=\"1\" class=\"dataframe\">\n  <thead>\n    <tr style=\"text-align: right;\">\n      <th></th>\n      <th>site1</th>\n      <th>time1</th>\n      <th>site2</th>\n      <th>time2</th>\n      <th>site3</th>\n      <th>time3</th>\n      <th>site4</th>\n      <th>time4</th>\n      <th>site5</th>\n      <th>time5</th>\n      <th>...</th>\n      <th>time6</th>\n      <th>site7</th>\n      <th>time7</th>\n      <th>site8</th>\n      <th>time8</th>\n      <th>site9</th>\n      <th>time9</th>\n      <th>site10</th>\n      <th>time10</th>\n      <th>target</th>\n    </tr>\n    <tr>\n      <th>session_id</th>\n      <th></th>\n      <th></th>\n      <th></th>\n      <th></th>\n      <th></th>\n      <th></th>\n      <th></th>\n      <th></th>\n      <th></th>\n      <th></th>\n      <th></th>\n      <th></th>\n      <th></th>\n      <th></th>\n      <th></th>\n      <th></th>\n      <th></th>\n      <th></th>\n      <th></th>\n      <th></th>\n      <th></th>\n    </tr>\n  </thead>\n  <tbody>\n    <tr>\n      <th>1</th>\n      <td>718</td>\n      <td>2014-02-20 10:02:45</td>\n      <td>NaN</td>\n      <td>NaN</td>\n      <td>NaN</td>\n      <td>NaN</td>\n      <td>NaN</td>\n      <td>NaN</td>\n      <td>NaN</td>\n      <td>NaN</td>\n      <td>...</td>\n      <td>NaN</td>\n      <td>NaN</td>\n      <td>NaN</td>\n      <td>NaN</td>\n      <td>NaN</td>\n      <td>NaN</td>\n      <td>NaN</td>\n      <td>NaN</td>\n      <td>NaN</td>\n      <td>0</td>\n    </tr>\n    <tr>\n      <th>2</th>\n      <td>890</td>\n      <td>2014-02-22 11:19:50</td>\n      <td>941.0</td>\n      <td>2014-02-22 11:19:50</td>\n      <td>3847.0</td>\n      <td>2014-02-22 11:19:51</td>\n      <td>941.0</td>\n      <td>2014-02-22 11:19:51</td>\n      <td>942.0</td>\n      <td>2014-02-22 11:19:51</td>\n      <td>...</td>\n      <td>2014-02-22 11:19:51</td>\n      <td>3847.0</td>\n      <td>2014-02-22 11:19:52</td>\n      <td>3846.0</td>\n      <td>2014-02-22 11:19:52</td>\n      <td>1516.0</td>\n      <td>2014-02-22 11:20:15</td>\n      <td>1518.0</td>\n      <td>2014-02-22 11:20:16</td>\n      <td>0</td>\n    </tr>\n    <tr>\n      <th>3</th>\n      <td>14769</td>\n      <td>2013-12-16 16:40:17</td>\n      <td>39.0</td>\n      <td>2013-12-16 16:40:18</td>\n      <td>14768.0</td>\n      <td>2013-12-16 16:40:19</td>\n      <td>14769.0</td>\n      <td>2013-12-16 16:40:19</td>\n      <td>37.0</td>\n      <td>2013-12-16 16:40:19</td>\n      <td>...</td>\n      <td>2013-12-16 16:40:19</td>\n      <td>14768.0</td>\n      <td>2013-12-16 16:40:20</td>\n      <td>14768.0</td>\n      <td>2013-12-16 16:40:21</td>\n      <td>14768.0</td>\n      <td>2013-12-16 16:40:22</td>\n      <td>14768.0</td>\n      <td>2013-12-16 16:40:24</td>\n      <td>0</td>\n    </tr>\n    <tr>\n      <th>4</th>\n      <td>782</td>\n      <td>2014-03-28 10:52:12</td>\n      <td>782.0</td>\n      <td>2014-03-28 10:52:42</td>\n      <td>782.0</td>\n      <td>2014-03-28 10:53:12</td>\n      <td>782.0</td>\n      <td>2014-03-28 10:53:42</td>\n      <td>782.0</td>\n      <td>2014-03-28 10:54:12</td>\n      <td>...</td>\n      <td>2014-03-28 10:54:42</td>\n      <td>782.0</td>\n      <td>2014-03-28 10:55:12</td>\n      <td>782.0</td>\n      <td>2014-03-28 10:55:42</td>\n      <td>782.0</td>\n      <td>2014-03-28 10:56:12</td>\n      <td>782.0</td>\n      <td>2014-03-28 10:56:42</td>\n      <td>0</td>\n    </tr>\n    <tr>\n      <th>5</th>\n      <td>22</td>\n      <td>2014-02-28 10:53:05</td>\n      <td>177.0</td>\n      <td>2014-02-28 10:55:22</td>\n      <td>175.0</td>\n      <td>2014-02-28 10:55:22</td>\n      <td>178.0</td>\n      <td>2014-02-28 10:55:23</td>\n      <td>177.0</td>\n      <td>2014-02-28 10:55:23</td>\n      <td>...</td>\n      <td>2014-02-28 10:55:59</td>\n      <td>175.0</td>\n      <td>2014-02-28 10:55:59</td>\n      <td>177.0</td>\n      <td>2014-02-28 10:55:59</td>\n      <td>177.0</td>\n      <td>2014-02-28 10:57:06</td>\n      <td>178.0</td>\n      <td>2014-02-28 10:57:11</td>\n      <td>0</td>\n    </tr>\n  </tbody>\n</table>\n<p>5 rows × 21 columns</p>\n</div>"
     },
     "metadata": {},
     "execution_count": 5
    }
   ],
   "source": [
    "train_df.head()"
   ]
  },
  {
   "cell_type": "code",
   "execution_count": 6,
   "metadata": {},
   "outputs": [
    {
     "output_type": "execute_result",
     "data": {
      "text/plain": [
       "            site1                time1   site2                time2  site3  \\\n",
       "session_id                                                                   \n",
       "1              29  2014-10-04 11:19:53    35.0  2014-10-04 11:19:53   22.0   \n",
       "2             782  2014-07-03 11:00:28   782.0  2014-07-03 11:00:53  782.0   \n",
       "3              55  2014-12-05 15:55:12    55.0  2014-12-05 15:55:13   55.0   \n",
       "4            1023  2014-11-04 10:03:19  1022.0  2014-11-04 10:03:19   50.0   \n",
       "5             301  2014-05-16 15:05:31   301.0  2014-05-16 15:05:32  301.0   \n",
       "\n",
       "                          time3  site4                time4  site5  \\\n",
       "session_id                                                           \n",
       "1           2014-10-04 11:19:54  321.0  2014-10-04 11:19:54   23.0   \n",
       "2           2014-07-03 11:00:58  782.0  2014-07-03 11:01:06  782.0   \n",
       "3           2014-12-05 15:55:14   55.0  2014-12-05 15:56:15   55.0   \n",
       "4           2014-11-04 10:03:20  222.0  2014-11-04 10:03:21  202.0   \n",
       "5           2014-05-16 15:05:33   66.0  2014-05-16 15:05:39   67.0   \n",
       "\n",
       "                          time5   site6                time6   site7  \\\n",
       "session_id                                                             \n",
       "1           2014-10-04 11:19:54  2211.0  2014-10-04 11:19:54  6730.0   \n",
       "2           2014-07-03 11:01:09   782.0  2014-07-03 11:01:10   782.0   \n",
       "3           2014-12-05 15:56:16    55.0  2014-12-05 15:56:17    55.0   \n",
       "4           2014-11-04 10:03:21  3374.0  2014-11-04 10:03:22    50.0   \n",
       "5           2014-05-16 15:05:40    69.0  2014-05-16 15:05:40    70.0   \n",
       "\n",
       "                          time7  site8                time8    site9  \\\n",
       "session_id                                                             \n",
       "1           2014-10-04 11:19:54   21.0  2014-10-04 11:19:54  44582.0   \n",
       "2           2014-07-03 11:01:23  782.0  2014-07-03 11:01:29    782.0   \n",
       "3           2014-12-05 15:56:18   55.0  2014-12-05 15:56:19   1445.0   \n",
       "4           2014-11-04 10:03:22   48.0  2014-11-04 10:03:22     48.0   \n",
       "5           2014-05-16 15:05:40   68.0  2014-05-16 15:05:40     71.0   \n",
       "\n",
       "                          time9   site10               time10  \n",
       "session_id                                                     \n",
       "1           2014-10-04 11:20:00  15336.0  2014-10-04 11:20:00  \n",
       "2           2014-07-03 11:01:30    782.0  2014-07-03 11:01:53  \n",
       "3           2014-12-05 15:56:33   1445.0  2014-12-05 15:56:36  \n",
       "4           2014-11-04 10:03:23   3374.0  2014-11-04 10:03:23  \n",
       "5           2014-05-16 15:05:40    167.0  2014-05-16 15:05:44  "
      ],
      "text/html": "<div>\n<style scoped>\n    .dataframe tbody tr th:only-of-type {\n        vertical-align: middle;\n    }\n\n    .dataframe tbody tr th {\n        vertical-align: top;\n    }\n\n    .dataframe thead th {\n        text-align: right;\n    }\n</style>\n<table border=\"1\" class=\"dataframe\">\n  <thead>\n    <tr style=\"text-align: right;\">\n      <th></th>\n      <th>site1</th>\n      <th>time1</th>\n      <th>site2</th>\n      <th>time2</th>\n      <th>site3</th>\n      <th>time3</th>\n      <th>site4</th>\n      <th>time4</th>\n      <th>site5</th>\n      <th>time5</th>\n      <th>site6</th>\n      <th>time6</th>\n      <th>site7</th>\n      <th>time7</th>\n      <th>site8</th>\n      <th>time8</th>\n      <th>site9</th>\n      <th>time9</th>\n      <th>site10</th>\n      <th>time10</th>\n    </tr>\n    <tr>\n      <th>session_id</th>\n      <th></th>\n      <th></th>\n      <th></th>\n      <th></th>\n      <th></th>\n      <th></th>\n      <th></th>\n      <th></th>\n      <th></th>\n      <th></th>\n      <th></th>\n      <th></th>\n      <th></th>\n      <th></th>\n      <th></th>\n      <th></th>\n      <th></th>\n      <th></th>\n      <th></th>\n      <th></th>\n    </tr>\n  </thead>\n  <tbody>\n    <tr>\n      <th>1</th>\n      <td>29</td>\n      <td>2014-10-04 11:19:53</td>\n      <td>35.0</td>\n      <td>2014-10-04 11:19:53</td>\n      <td>22.0</td>\n      <td>2014-10-04 11:19:54</td>\n      <td>321.0</td>\n      <td>2014-10-04 11:19:54</td>\n      <td>23.0</td>\n      <td>2014-10-04 11:19:54</td>\n      <td>2211.0</td>\n      <td>2014-10-04 11:19:54</td>\n      <td>6730.0</td>\n      <td>2014-10-04 11:19:54</td>\n      <td>21.0</td>\n      <td>2014-10-04 11:19:54</td>\n      <td>44582.0</td>\n      <td>2014-10-04 11:20:00</td>\n      <td>15336.0</td>\n      <td>2014-10-04 11:20:00</td>\n    </tr>\n    <tr>\n      <th>2</th>\n      <td>782</td>\n      <td>2014-07-03 11:00:28</td>\n      <td>782.0</td>\n      <td>2014-07-03 11:00:53</td>\n      <td>782.0</td>\n      <td>2014-07-03 11:00:58</td>\n      <td>782.0</td>\n      <td>2014-07-03 11:01:06</td>\n      <td>782.0</td>\n      <td>2014-07-03 11:01:09</td>\n      <td>782.0</td>\n      <td>2014-07-03 11:01:10</td>\n      <td>782.0</td>\n      <td>2014-07-03 11:01:23</td>\n      <td>782.0</td>\n      <td>2014-07-03 11:01:29</td>\n      <td>782.0</td>\n      <td>2014-07-03 11:01:30</td>\n      <td>782.0</td>\n      <td>2014-07-03 11:01:53</td>\n    </tr>\n    <tr>\n      <th>3</th>\n      <td>55</td>\n      <td>2014-12-05 15:55:12</td>\n      <td>55.0</td>\n      <td>2014-12-05 15:55:13</td>\n      <td>55.0</td>\n      <td>2014-12-05 15:55:14</td>\n      <td>55.0</td>\n      <td>2014-12-05 15:56:15</td>\n      <td>55.0</td>\n      <td>2014-12-05 15:56:16</td>\n      <td>55.0</td>\n      <td>2014-12-05 15:56:17</td>\n      <td>55.0</td>\n      <td>2014-12-05 15:56:18</td>\n      <td>55.0</td>\n      <td>2014-12-05 15:56:19</td>\n      <td>1445.0</td>\n      <td>2014-12-05 15:56:33</td>\n      <td>1445.0</td>\n      <td>2014-12-05 15:56:36</td>\n    </tr>\n    <tr>\n      <th>4</th>\n      <td>1023</td>\n      <td>2014-11-04 10:03:19</td>\n      <td>1022.0</td>\n      <td>2014-11-04 10:03:19</td>\n      <td>50.0</td>\n      <td>2014-11-04 10:03:20</td>\n      <td>222.0</td>\n      <td>2014-11-04 10:03:21</td>\n      <td>202.0</td>\n      <td>2014-11-04 10:03:21</td>\n      <td>3374.0</td>\n      <td>2014-11-04 10:03:22</td>\n      <td>50.0</td>\n      <td>2014-11-04 10:03:22</td>\n      <td>48.0</td>\n      <td>2014-11-04 10:03:22</td>\n      <td>48.0</td>\n      <td>2014-11-04 10:03:23</td>\n      <td>3374.0</td>\n      <td>2014-11-04 10:03:23</td>\n    </tr>\n    <tr>\n      <th>5</th>\n      <td>301</td>\n      <td>2014-05-16 15:05:31</td>\n      <td>301.0</td>\n      <td>2014-05-16 15:05:32</td>\n      <td>301.0</td>\n      <td>2014-05-16 15:05:33</td>\n      <td>66.0</td>\n      <td>2014-05-16 15:05:39</td>\n      <td>67.0</td>\n      <td>2014-05-16 15:05:40</td>\n      <td>69.0</td>\n      <td>2014-05-16 15:05:40</td>\n      <td>70.0</td>\n      <td>2014-05-16 15:05:40</td>\n      <td>68.0</td>\n      <td>2014-05-16 15:05:40</td>\n      <td>71.0</td>\n      <td>2014-05-16 15:05:40</td>\n      <td>167.0</td>\n      <td>2014-05-16 15:05:44</td>\n    </tr>\n  </tbody>\n</table>\n</div>"
     },
     "metadata": {},
     "execution_count": 6
    }
   ],
   "source": [
    "test_df.head()"
   ]
  },
  {
   "cell_type": "code",
   "execution_count": 7,
   "metadata": {},
   "outputs": [
    {
     "output_type": "execute_result",
     "data": {
      "text/plain": [
       "(253561, 21)"
      ]
     },
     "metadata": {},
     "execution_count": 7
    }
   ],
   "source": [
    "train_df.shape"
   ]
  },
  {
   "cell_type": "code",
   "execution_count": 8,
   "metadata": {},
   "outputs": [
    {
     "output_type": "execute_result",
     "data": {
      "text/plain": [
       "(82797, 20)"
      ]
     },
     "metadata": {},
     "execution_count": 8
    }
   ],
   "source": [
    "test_df.shape"
   ]
  },
  {
   "cell_type": "code",
   "execution_count": 9,
   "metadata": {},
   "outputs": [],
   "source": [
    "#Создание единого фрейма для удобства разработки фич, без повтора на тестовую выборку отдельно "
   ]
  },
  {
   "cell_type": "code",
   "execution_count": 10,
   "metadata": {},
   "outputs": [],
   "source": [
    "#отделить таргет от Трэйна и содеинить Трэйн с Тестом. Сумма строк составит 336 358"
   ]
  },
  {
   "cell_type": "code",
   "execution_count": 11,
   "metadata": {},
   "outputs": [],
   "source": [
    "DF_Full = pd.concat([train_df.drop('target', axis=1), test_df])"
   ]
  },
  {
   "cell_type": "code",
   "execution_count": 12,
   "metadata": {},
   "outputs": [
    {
     "output_type": "execute_result",
     "data": {
      "text/plain": [
       "(336358, 20)"
      ]
     },
     "metadata": {},
     "execution_count": 12
    }
   ],
   "source": [
    "DF_Full.shape"
   ]
  },
  {
   "cell_type": "code",
   "execution_count": 13,
   "metadata": {},
   "outputs": [
    {
     "output_type": "execute_result",
     "data": {
      "text/plain": [
       "            site1                time1  site2                time2    site3  \\\n",
       "session_id                                                                    \n",
       "1             718  2014-02-20 10:02:45    NaN                  NaN      NaN   \n",
       "2             890  2014-02-22 11:19:50  941.0  2014-02-22 11:19:50   3847.0   \n",
       "3           14769  2013-12-16 16:40:17   39.0  2013-12-16 16:40:18  14768.0   \n",
       "4             782  2014-03-28 10:52:12  782.0  2014-03-28 10:52:42    782.0   \n",
       "5              22  2014-02-28 10:53:05  177.0  2014-02-28 10:55:22    175.0   \n",
       "\n",
       "                          time3    site4                time4  site5  \\\n",
       "session_id                                                             \n",
       "1                           NaN      NaN                  NaN    NaN   \n",
       "2           2014-02-22 11:19:51    941.0  2014-02-22 11:19:51  942.0   \n",
       "3           2013-12-16 16:40:19  14769.0  2013-12-16 16:40:19   37.0   \n",
       "4           2014-03-28 10:53:12    782.0  2014-03-28 10:53:42  782.0   \n",
       "5           2014-02-28 10:55:22    178.0  2014-02-28 10:55:23  177.0   \n",
       "\n",
       "                          time5   site6                time6    site7  \\\n",
       "session_id                                                              \n",
       "1                           NaN     NaN                  NaN      NaN   \n",
       "2           2014-02-22 11:19:51  3846.0  2014-02-22 11:19:51   3847.0   \n",
       "3           2013-12-16 16:40:19    39.0  2013-12-16 16:40:19  14768.0   \n",
       "4           2014-03-28 10:54:12   782.0  2014-03-28 10:54:42    782.0   \n",
       "5           2014-02-28 10:55:23   178.0  2014-02-28 10:55:59    175.0   \n",
       "\n",
       "                          time7    site8                time8    site9  \\\n",
       "session_id                                                               \n",
       "1                           NaN      NaN                  NaN      NaN   \n",
       "2           2014-02-22 11:19:52   3846.0  2014-02-22 11:19:52   1516.0   \n",
       "3           2013-12-16 16:40:20  14768.0  2013-12-16 16:40:21  14768.0   \n",
       "4           2014-03-28 10:55:12    782.0  2014-03-28 10:55:42    782.0   \n",
       "5           2014-02-28 10:55:59    177.0  2014-02-28 10:55:59    177.0   \n",
       "\n",
       "                          time9   site10               time10  \n",
       "session_id                                                     \n",
       "1                           NaN      NaN                  NaN  \n",
       "2           2014-02-22 11:20:15   1518.0  2014-02-22 11:20:16  \n",
       "3           2013-12-16 16:40:22  14768.0  2013-12-16 16:40:24  \n",
       "4           2014-03-28 10:56:12    782.0  2014-03-28 10:56:42  \n",
       "5           2014-02-28 10:57:06    178.0  2014-02-28 10:57:11  "
      ],
      "text/html": "<div>\n<style scoped>\n    .dataframe tbody tr th:only-of-type {\n        vertical-align: middle;\n    }\n\n    .dataframe tbody tr th {\n        vertical-align: top;\n    }\n\n    .dataframe thead th {\n        text-align: right;\n    }\n</style>\n<table border=\"1\" class=\"dataframe\">\n  <thead>\n    <tr style=\"text-align: right;\">\n      <th></th>\n      <th>site1</th>\n      <th>time1</th>\n      <th>site2</th>\n      <th>time2</th>\n      <th>site3</th>\n      <th>time3</th>\n      <th>site4</th>\n      <th>time4</th>\n      <th>site5</th>\n      <th>time5</th>\n      <th>site6</th>\n      <th>time6</th>\n      <th>site7</th>\n      <th>time7</th>\n      <th>site8</th>\n      <th>time8</th>\n      <th>site9</th>\n      <th>time9</th>\n      <th>site10</th>\n      <th>time10</th>\n    </tr>\n    <tr>\n      <th>session_id</th>\n      <th></th>\n      <th></th>\n      <th></th>\n      <th></th>\n      <th></th>\n      <th></th>\n      <th></th>\n      <th></th>\n      <th></th>\n      <th></th>\n      <th></th>\n      <th></th>\n      <th></th>\n      <th></th>\n      <th></th>\n      <th></th>\n      <th></th>\n      <th></th>\n      <th></th>\n      <th></th>\n    </tr>\n  </thead>\n  <tbody>\n    <tr>\n      <th>1</th>\n      <td>718</td>\n      <td>2014-02-20 10:02:45</td>\n      <td>NaN</td>\n      <td>NaN</td>\n      <td>NaN</td>\n      <td>NaN</td>\n      <td>NaN</td>\n      <td>NaN</td>\n      <td>NaN</td>\n      <td>NaN</td>\n      <td>NaN</td>\n      <td>NaN</td>\n      <td>NaN</td>\n      <td>NaN</td>\n      <td>NaN</td>\n      <td>NaN</td>\n      <td>NaN</td>\n      <td>NaN</td>\n      <td>NaN</td>\n      <td>NaN</td>\n    </tr>\n    <tr>\n      <th>2</th>\n      <td>890</td>\n      <td>2014-02-22 11:19:50</td>\n      <td>941.0</td>\n      <td>2014-02-22 11:19:50</td>\n      <td>3847.0</td>\n      <td>2014-02-22 11:19:51</td>\n      <td>941.0</td>\n      <td>2014-02-22 11:19:51</td>\n      <td>942.0</td>\n      <td>2014-02-22 11:19:51</td>\n      <td>3846.0</td>\n      <td>2014-02-22 11:19:51</td>\n      <td>3847.0</td>\n      <td>2014-02-22 11:19:52</td>\n      <td>3846.0</td>\n      <td>2014-02-22 11:19:52</td>\n      <td>1516.0</td>\n      <td>2014-02-22 11:20:15</td>\n      <td>1518.0</td>\n      <td>2014-02-22 11:20:16</td>\n    </tr>\n    <tr>\n      <th>3</th>\n      <td>14769</td>\n      <td>2013-12-16 16:40:17</td>\n      <td>39.0</td>\n      <td>2013-12-16 16:40:18</td>\n      <td>14768.0</td>\n      <td>2013-12-16 16:40:19</td>\n      <td>14769.0</td>\n      <td>2013-12-16 16:40:19</td>\n      <td>37.0</td>\n      <td>2013-12-16 16:40:19</td>\n      <td>39.0</td>\n      <td>2013-12-16 16:40:19</td>\n      <td>14768.0</td>\n      <td>2013-12-16 16:40:20</td>\n      <td>14768.0</td>\n      <td>2013-12-16 16:40:21</td>\n      <td>14768.0</td>\n      <td>2013-12-16 16:40:22</td>\n      <td>14768.0</td>\n      <td>2013-12-16 16:40:24</td>\n    </tr>\n    <tr>\n      <th>4</th>\n      <td>782</td>\n      <td>2014-03-28 10:52:12</td>\n      <td>782.0</td>\n      <td>2014-03-28 10:52:42</td>\n      <td>782.0</td>\n      <td>2014-03-28 10:53:12</td>\n      <td>782.0</td>\n      <td>2014-03-28 10:53:42</td>\n      <td>782.0</td>\n      <td>2014-03-28 10:54:12</td>\n      <td>782.0</td>\n      <td>2014-03-28 10:54:42</td>\n      <td>782.0</td>\n      <td>2014-03-28 10:55:12</td>\n      <td>782.0</td>\n      <td>2014-03-28 10:55:42</td>\n      <td>782.0</td>\n      <td>2014-03-28 10:56:12</td>\n      <td>782.0</td>\n      <td>2014-03-28 10:56:42</td>\n    </tr>\n    <tr>\n      <th>5</th>\n      <td>22</td>\n      <td>2014-02-28 10:53:05</td>\n      <td>177.0</td>\n      <td>2014-02-28 10:55:22</td>\n      <td>175.0</td>\n      <td>2014-02-28 10:55:22</td>\n      <td>178.0</td>\n      <td>2014-02-28 10:55:23</td>\n      <td>177.0</td>\n      <td>2014-02-28 10:55:23</td>\n      <td>178.0</td>\n      <td>2014-02-28 10:55:59</td>\n      <td>175.0</td>\n      <td>2014-02-28 10:55:59</td>\n      <td>177.0</td>\n      <td>2014-02-28 10:55:59</td>\n      <td>177.0</td>\n      <td>2014-02-28 10:57:06</td>\n      <td>178.0</td>\n      <td>2014-02-28 10:57:11</td>\n    </tr>\n  </tbody>\n</table>\n</div>"
     },
     "metadata": {},
     "execution_count": 13
    }
   ],
   "source": [
    "DF_Full.head(5)"
   ]
  },
  {
   "cell_type": "code",
   "execution_count": 159,
   "metadata": {},
   "outputs": [
    {
     "output_type": "execute_result",
     "data": {
      "text/plain": [
       "                         time1               time2               time3  \\\n",
       "session_id                                                               \n",
       "1          2014-02-20 10:02:45                 NaT                 NaT   \n",
       "2          2014-02-22 11:19:50 2014-02-22 11:19:50 2014-02-22 11:19:51   \n",
       "3          2013-12-16 16:40:17 2013-12-16 16:40:18 2013-12-16 16:40:19   \n",
       "4          2014-03-28 10:52:12 2014-03-28 10:52:42 2014-03-28 10:53:12   \n",
       "5          2014-02-28 10:53:05 2014-02-28 10:55:22 2014-02-28 10:55:22   \n",
       "...                        ...                 ...                 ...   \n",
       "82793      2014-10-02 18:20:09 2014-10-02 18:20:09 2014-10-02 18:20:09   \n",
       "82794      2014-05-26 14:16:40 2014-05-26 14:16:41 2014-05-26 14:16:44   \n",
       "82795      2014-05-02 11:21:56 2014-05-02 11:21:56 2014-05-02 11:21:56   \n",
       "82796      2014-05-03 10:05:25 2014-05-03 10:05:27 2014-05-03 10:05:27   \n",
       "82797      2014-11-02 10:46:57 2014-11-02 10:46:57 2014-11-02 10:46:58   \n",
       "\n",
       "                         time4               time5               time6  \\\n",
       "session_id                                                               \n",
       "1                          NaT                 NaT                 NaT   \n",
       "2          2014-02-22 11:19:51 2014-02-22 11:19:51 2014-02-22 11:19:51   \n",
       "3          2013-12-16 16:40:19 2013-12-16 16:40:19 2013-12-16 16:40:19   \n",
       "4          2014-03-28 10:53:42 2014-03-28 10:54:12 2014-03-28 10:54:42   \n",
       "5          2014-02-28 10:55:23 2014-02-28 10:55:23 2014-02-28 10:55:59   \n",
       "...                        ...                 ...                 ...   \n",
       "82793                      NaT                 NaT                 NaT   \n",
       "82794      2014-05-26 14:16:44 2014-05-26 14:17:19 2014-05-26 14:17:19   \n",
       "82795      2014-05-02 11:22:03 2014-05-02 11:22:03 2014-05-02 11:22:03   \n",
       "82796      2014-05-03 10:05:27 2014-05-03 10:05:36 2014-05-03 10:05:37   \n",
       "82797      2014-11-02 10:47:12 2014-11-02 10:47:13 2014-11-02 10:47:14   \n",
       "\n",
       "                         time7               time8               time9  \\\n",
       "session_id                                                               \n",
       "1                          NaT                 NaT                 NaT   \n",
       "2          2014-02-22 11:19:52 2014-02-22 11:19:52 2014-02-22 11:20:15   \n",
       "3          2013-12-16 16:40:20 2013-12-16 16:40:21 2013-12-16 16:40:22   \n",
       "4          2014-03-28 10:55:12 2014-03-28 10:55:42 2014-03-28 10:56:12   \n",
       "5          2014-02-28 10:55:59 2014-02-28 10:55:59 2014-02-28 10:57:06   \n",
       "...                        ...                 ...                 ...   \n",
       "82793                      NaT                 NaT                 NaT   \n",
       "82794      2014-05-26 14:17:19 2014-05-26 14:17:19 2014-05-26 14:17:19   \n",
       "82795      2014-05-02 11:22:03 2014-05-02 11:22:04 2014-05-02 11:22:04   \n",
       "82796      2014-05-03 10:05:37 2014-05-03 10:05:38 2014-05-03 10:05:38   \n",
       "82797      2014-11-02 10:47:15 2014-11-02 10:47:18 2014-11-02 10:47:42   \n",
       "\n",
       "                        time10           delta  \n",
       "session_id                                      \n",
       "1                          NaT 0 days 00:00:00  \n",
       "2          2014-02-22 11:20:16 0 days 00:00:26  \n",
       "3          2013-12-16 16:40:24 0 days 00:00:07  \n",
       "4          2014-03-28 10:56:42 0 days 00:04:30  \n",
       "5          2014-02-28 10:57:11 0 days 00:04:06  \n",
       "...                        ...             ...  \n",
       "82793                      NaT 0 days 00:00:00  \n",
       "82794      2014-05-26 14:17:19 0 days 00:00:39  \n",
       "82795      2014-05-02 11:22:04 0 days 00:00:08  \n",
       "82796      2014-05-03 10:05:38 0 days 00:00:13  \n",
       "82797      2014-11-02 10:47:47 0 days 00:00:50  \n",
       "\n",
       "[336358 rows x 11 columns]"
      ],
      "text/html": "<div>\n<style scoped>\n    .dataframe tbody tr th:only-of-type {\n        vertical-align: middle;\n    }\n\n    .dataframe tbody tr th {\n        vertical-align: top;\n    }\n\n    .dataframe thead th {\n        text-align: right;\n    }\n</style>\n<table border=\"1\" class=\"dataframe\">\n  <thead>\n    <tr style=\"text-align: right;\">\n      <th></th>\n      <th>time1</th>\n      <th>time2</th>\n      <th>time3</th>\n      <th>time4</th>\n      <th>time5</th>\n      <th>time6</th>\n      <th>time7</th>\n      <th>time8</th>\n      <th>time9</th>\n      <th>time10</th>\n      <th>delta</th>\n    </tr>\n    <tr>\n      <th>session_id</th>\n      <th></th>\n      <th></th>\n      <th></th>\n      <th></th>\n      <th></th>\n      <th></th>\n      <th></th>\n      <th></th>\n      <th></th>\n      <th></th>\n      <th></th>\n    </tr>\n  </thead>\n  <tbody>\n    <tr>\n      <th>1</th>\n      <td>2014-02-20 10:02:45</td>\n      <td>NaT</td>\n      <td>NaT</td>\n      <td>NaT</td>\n      <td>NaT</td>\n      <td>NaT</td>\n      <td>NaT</td>\n      <td>NaT</td>\n      <td>NaT</td>\n      <td>NaT</td>\n      <td>0 days 00:00:00</td>\n    </tr>\n    <tr>\n      <th>2</th>\n      <td>2014-02-22 11:19:50</td>\n      <td>2014-02-22 11:19:50</td>\n      <td>2014-02-22 11:19:51</td>\n      <td>2014-02-22 11:19:51</td>\n      <td>2014-02-22 11:19:51</td>\n      <td>2014-02-22 11:19:51</td>\n      <td>2014-02-22 11:19:52</td>\n      <td>2014-02-22 11:19:52</td>\n      <td>2014-02-22 11:20:15</td>\n      <td>2014-02-22 11:20:16</td>\n      <td>0 days 00:00:26</td>\n    </tr>\n    <tr>\n      <th>3</th>\n      <td>2013-12-16 16:40:17</td>\n      <td>2013-12-16 16:40:18</td>\n      <td>2013-12-16 16:40:19</td>\n      <td>2013-12-16 16:40:19</td>\n      <td>2013-12-16 16:40:19</td>\n      <td>2013-12-16 16:40:19</td>\n      <td>2013-12-16 16:40:20</td>\n      <td>2013-12-16 16:40:21</td>\n      <td>2013-12-16 16:40:22</td>\n      <td>2013-12-16 16:40:24</td>\n      <td>0 days 00:00:07</td>\n    </tr>\n    <tr>\n      <th>4</th>\n      <td>2014-03-28 10:52:12</td>\n      <td>2014-03-28 10:52:42</td>\n      <td>2014-03-28 10:53:12</td>\n      <td>2014-03-28 10:53:42</td>\n      <td>2014-03-28 10:54:12</td>\n      <td>2014-03-28 10:54:42</td>\n      <td>2014-03-28 10:55:12</td>\n      <td>2014-03-28 10:55:42</td>\n      <td>2014-03-28 10:56:12</td>\n      <td>2014-03-28 10:56:42</td>\n      <td>0 days 00:04:30</td>\n    </tr>\n    <tr>\n      <th>5</th>\n      <td>2014-02-28 10:53:05</td>\n      <td>2014-02-28 10:55:22</td>\n      <td>2014-02-28 10:55:22</td>\n      <td>2014-02-28 10:55:23</td>\n      <td>2014-02-28 10:55:23</td>\n      <td>2014-02-28 10:55:59</td>\n      <td>2014-02-28 10:55:59</td>\n      <td>2014-02-28 10:55:59</td>\n      <td>2014-02-28 10:57:06</td>\n      <td>2014-02-28 10:57:11</td>\n      <td>0 days 00:04:06</td>\n    </tr>\n    <tr>\n      <th>...</th>\n      <td>...</td>\n      <td>...</td>\n      <td>...</td>\n      <td>...</td>\n      <td>...</td>\n      <td>...</td>\n      <td>...</td>\n      <td>...</td>\n      <td>...</td>\n      <td>...</td>\n      <td>...</td>\n    </tr>\n    <tr>\n      <th>82793</th>\n      <td>2014-10-02 18:20:09</td>\n      <td>2014-10-02 18:20:09</td>\n      <td>2014-10-02 18:20:09</td>\n      <td>NaT</td>\n      <td>NaT</td>\n      <td>NaT</td>\n      <td>NaT</td>\n      <td>NaT</td>\n      <td>NaT</td>\n      <td>NaT</td>\n      <td>0 days 00:00:00</td>\n    </tr>\n    <tr>\n      <th>82794</th>\n      <td>2014-05-26 14:16:40</td>\n      <td>2014-05-26 14:16:41</td>\n      <td>2014-05-26 14:16:44</td>\n      <td>2014-05-26 14:16:44</td>\n      <td>2014-05-26 14:17:19</td>\n      <td>2014-05-26 14:17:19</td>\n      <td>2014-05-26 14:17:19</td>\n      <td>2014-05-26 14:17:19</td>\n      <td>2014-05-26 14:17:19</td>\n      <td>2014-05-26 14:17:19</td>\n      <td>0 days 00:00:39</td>\n    </tr>\n    <tr>\n      <th>82795</th>\n      <td>2014-05-02 11:21:56</td>\n      <td>2014-05-02 11:21:56</td>\n      <td>2014-05-02 11:21:56</td>\n      <td>2014-05-02 11:22:03</td>\n      <td>2014-05-02 11:22:03</td>\n      <td>2014-05-02 11:22:03</td>\n      <td>2014-05-02 11:22:03</td>\n      <td>2014-05-02 11:22:04</td>\n      <td>2014-05-02 11:22:04</td>\n      <td>2014-05-02 11:22:04</td>\n      <td>0 days 00:00:08</td>\n    </tr>\n    <tr>\n      <th>82796</th>\n      <td>2014-05-03 10:05:25</td>\n      <td>2014-05-03 10:05:27</td>\n      <td>2014-05-03 10:05:27</td>\n      <td>2014-05-03 10:05:27</td>\n      <td>2014-05-03 10:05:36</td>\n      <td>2014-05-03 10:05:37</td>\n      <td>2014-05-03 10:05:37</td>\n      <td>2014-05-03 10:05:38</td>\n      <td>2014-05-03 10:05:38</td>\n      <td>2014-05-03 10:05:38</td>\n      <td>0 days 00:00:13</td>\n    </tr>\n    <tr>\n      <th>82797</th>\n      <td>2014-11-02 10:46:57</td>\n      <td>2014-11-02 10:46:57</td>\n      <td>2014-11-02 10:46:58</td>\n      <td>2014-11-02 10:47:12</td>\n      <td>2014-11-02 10:47:13</td>\n      <td>2014-11-02 10:47:14</td>\n      <td>2014-11-02 10:47:15</td>\n      <td>2014-11-02 10:47:18</td>\n      <td>2014-11-02 10:47:42</td>\n      <td>2014-11-02 10:47:47</td>\n      <td>0 days 00:00:50</td>\n    </tr>\n  </tbody>\n</table>\n<p>336358 rows × 11 columns</p>\n</div>"
     },
     "metadata": {},
     "execution_count": 159
    }
   ],
   "source": [
    "site = ['site%s' % i for i in range(1,11)]\n",
    "DF_Full2Time = DF_Full.drop(site, axis=1)\n",
    "for i in range(DF_Full2Time.shape[1]):\n",
    "    DF_Full2Time.iloc[:,i] = pd.to_datetime(DF_Full2Time.iloc[:,i])\n",
    "\n",
    "# DF_Full2Time = DF_Full2Time.fillna(pd.Timedelta(seconds=0))\n",
    "# DF_Full2Time = DF_Full2Time.fillna(0) #.astype(str)\n",
    "#DF_Full2Time['count_steps'] = (DF_Full2Time == 0).astype(int).sum(axis=1)\n",
    "\n",
    "# #  pd.to_datetime\n",
    "# DF_Full2Time['nonzeroval'] = pd.to_datetime(DF_Full2Time.time2) #[year, month, day]\n",
    "# # apply(lambda x: x[0].timestamp(), axis=1).astype(int)\n",
    "# # DF_Full2Time['nonzeroval'] = DF_Full2Time.nonzeroval.astype(str)\n",
    "\n",
    "DF_Full2Time['delta'] = DF_Full2Time.max(axis = 1) - DF_Full2Time.min(axis = 1)\n",
    "DF_Full2Time"
   ]
  },
  {
   "cell_type": "code",
   "execution_count": 178,
   "metadata": {},
   "outputs": [],
   "source": [
    "#Фичаинжиниринг\n",
    "time = ['time%s' % i for i in range(1,11)]\n",
    "DF_Full1 = DF_Full.drop(time, axis=1)"
   ]
  },
  {
   "cell_type": "code",
   "execution_count": 180,
   "metadata": {},
   "outputs": [],
   "source": [
    "DF_Full1=DF_Full1.fillna(0)\n",
    "#Число уникальных сайтов в сессии\n",
    "DF_Full1['num_uniq_sites'] = DF_Full1.apply(pd.Series.nunique, axis=1)-1\n",
    "\n",
    "#Фича времени посещения первого сайта до полудня или после\n",
    "DF_Full1['AfterMidday'] = DF_Full.time1.apply(lambda x: x[11:13]).astype(int).apply(lambda x: 1 if x>=12 else 0)\n",
    "\n",
    "#Число шагов в сессии (Число сайтов - число нулей )\n",
    "# DF_Full1['count_steps'] = 10-DF_Full2Time['count_steps']\n",
    "\n",
    "#Длина сессии в минутах \n",
    "DF_Full1['SessionLength'] = DF_Full2Time.delta\n",
    "# apply(pd.Series.nunique, axis=1)-1\n",
    "\n",
    "#Масштабирование признака по первому моесещению \n",
    "DF_Full1['day1'] = DF_Full.time1.apply(lambda x: x[:7].replace('-', '0')).astype(int).apply(lambda x: x/2.013710e+06)\n"
   ]
  },
  {
   "cell_type": "code",
   "execution_count": 162,
   "metadata": {},
   "outputs": [],
   "source": [
    "#\n"
   ]
  },
  {
   "cell_type": "code",
   "execution_count": 181,
   "metadata": {},
   "outputs": [
    {
     "output_type": "execute_result",
     "data": {
      "text/plain": [
       "            site1  site2    site3    site4    site5   site6    site7    site8  \\\n",
       "session_id                                                                      \n",
       "1             718    0.0      0.0      0.0      0.0     0.0      0.0      0.0   \n",
       "2             890  941.0   3847.0    941.0    942.0  3846.0   3847.0   3846.0   \n",
       "3           14769   39.0  14768.0  14769.0     37.0    39.0  14768.0  14768.0   \n",
       "4             782  782.0    782.0    782.0    782.0   782.0    782.0    782.0   \n",
       "5              22  177.0    175.0    178.0    177.0   178.0    175.0    177.0   \n",
       "6             570   21.0    570.0     21.0     21.0     0.0      0.0      0.0   \n",
       "7             803   23.0   5956.0  17513.0     37.0    21.0    803.0  17514.0   \n",
       "8              22   21.0     29.0   5041.0  14422.0    23.0     21.0   5041.0   \n",
       "9             668  940.0    942.0    941.0    941.0   942.0    940.0     23.0   \n",
       "10           3700  229.0    570.0     21.0    229.0    21.0     21.0     21.0   \n",
       "\n",
       "              site9   site10  num_uniq_sites  AfterMidday   SessionLength  \\\n",
       "session_id                                                                  \n",
       "1               0.0      0.0               1            0 0 days 00:00:00   \n",
       "2            1516.0   1518.0               6            0 0 days 00:00:26   \n",
       "3           14768.0  14768.0               3            1 0 days 00:00:07   \n",
       "4             782.0    782.0               0            0 0 days 00:04:30   \n",
       "5             177.0    178.0               3            0 0 days 00:04:06   \n",
       "6               0.0      0.0               2            1 0 days 00:11:26   \n",
       "7           17514.0  17514.0               6            1 0 days 00:01:42   \n",
       "8           14421.0  14421.0               6            0 0 days 00:00:06   \n",
       "9              21.0     22.0               6            1 0 days 00:00:45   \n",
       "10           2336.0   2044.0               5            1 0 days 00:01:27   \n",
       "\n",
       "                day1  \n",
       "session_id            \n",
       "1           1.000145  \n",
       "2           1.000145  \n",
       "3           0.999653  \n",
       "4           1.000146  \n",
       "5           1.000145  \n",
       "6           1.000146  \n",
       "7           1.000145  \n",
       "8           0.999649  \n",
       "9           1.000146  \n",
       "10          1.000145  "
      ],
      "text/html": "<div>\n<style scoped>\n    .dataframe tbody tr th:only-of-type {\n        vertical-align: middle;\n    }\n\n    .dataframe tbody tr th {\n        vertical-align: top;\n    }\n\n    .dataframe thead th {\n        text-align: right;\n    }\n</style>\n<table border=\"1\" class=\"dataframe\">\n  <thead>\n    <tr style=\"text-align: right;\">\n      <th></th>\n      <th>site1</th>\n      <th>site2</th>\n      <th>site3</th>\n      <th>site4</th>\n      <th>site5</th>\n      <th>site6</th>\n      <th>site7</th>\n      <th>site8</th>\n      <th>site9</th>\n      <th>site10</th>\n      <th>num_uniq_sites</th>\n      <th>AfterMidday</th>\n      <th>SessionLength</th>\n      <th>day1</th>\n    </tr>\n    <tr>\n      <th>session_id</th>\n      <th></th>\n      <th></th>\n      <th></th>\n      <th></th>\n      <th></th>\n      <th></th>\n      <th></th>\n      <th></th>\n      <th></th>\n      <th></th>\n      <th></th>\n      <th></th>\n      <th></th>\n      <th></th>\n    </tr>\n  </thead>\n  <tbody>\n    <tr>\n      <th>1</th>\n      <td>718</td>\n      <td>0.0</td>\n      <td>0.0</td>\n      <td>0.0</td>\n      <td>0.0</td>\n      <td>0.0</td>\n      <td>0.0</td>\n      <td>0.0</td>\n      <td>0.0</td>\n      <td>0.0</td>\n      <td>1</td>\n      <td>0</td>\n      <td>0 days 00:00:00</td>\n      <td>1.000145</td>\n    </tr>\n    <tr>\n      <th>2</th>\n      <td>890</td>\n      <td>941.0</td>\n      <td>3847.0</td>\n      <td>941.0</td>\n      <td>942.0</td>\n      <td>3846.0</td>\n      <td>3847.0</td>\n      <td>3846.0</td>\n      <td>1516.0</td>\n      <td>1518.0</td>\n      <td>6</td>\n      <td>0</td>\n      <td>0 days 00:00:26</td>\n      <td>1.000145</td>\n    </tr>\n    <tr>\n      <th>3</th>\n      <td>14769</td>\n      <td>39.0</td>\n      <td>14768.0</td>\n      <td>14769.0</td>\n      <td>37.0</td>\n      <td>39.0</td>\n      <td>14768.0</td>\n      <td>14768.0</td>\n      <td>14768.0</td>\n      <td>14768.0</td>\n      <td>3</td>\n      <td>1</td>\n      <td>0 days 00:00:07</td>\n      <td>0.999653</td>\n    </tr>\n    <tr>\n      <th>4</th>\n      <td>782</td>\n      <td>782.0</td>\n      <td>782.0</td>\n      <td>782.0</td>\n      <td>782.0</td>\n      <td>782.0</td>\n      <td>782.0</td>\n      <td>782.0</td>\n      <td>782.0</td>\n      <td>782.0</td>\n      <td>0</td>\n      <td>0</td>\n      <td>0 days 00:04:30</td>\n      <td>1.000146</td>\n    </tr>\n    <tr>\n      <th>5</th>\n      <td>22</td>\n      <td>177.0</td>\n      <td>175.0</td>\n      <td>178.0</td>\n      <td>177.0</td>\n      <td>178.0</td>\n      <td>175.0</td>\n      <td>177.0</td>\n      <td>177.0</td>\n      <td>178.0</td>\n      <td>3</td>\n      <td>0</td>\n      <td>0 days 00:04:06</td>\n      <td>1.000145</td>\n    </tr>\n    <tr>\n      <th>6</th>\n      <td>570</td>\n      <td>21.0</td>\n      <td>570.0</td>\n      <td>21.0</td>\n      <td>21.0</td>\n      <td>0.0</td>\n      <td>0.0</td>\n      <td>0.0</td>\n      <td>0.0</td>\n      <td>0.0</td>\n      <td>2</td>\n      <td>1</td>\n      <td>0 days 00:11:26</td>\n      <td>1.000146</td>\n    </tr>\n    <tr>\n      <th>7</th>\n      <td>803</td>\n      <td>23.0</td>\n      <td>5956.0</td>\n      <td>17513.0</td>\n      <td>37.0</td>\n      <td>21.0</td>\n      <td>803.0</td>\n      <td>17514.0</td>\n      <td>17514.0</td>\n      <td>17514.0</td>\n      <td>6</td>\n      <td>1</td>\n      <td>0 days 00:01:42</td>\n      <td>1.000145</td>\n    </tr>\n    <tr>\n      <th>8</th>\n      <td>22</td>\n      <td>21.0</td>\n      <td>29.0</td>\n      <td>5041.0</td>\n      <td>14422.0</td>\n      <td>23.0</td>\n      <td>21.0</td>\n      <td>5041.0</td>\n      <td>14421.0</td>\n      <td>14421.0</td>\n      <td>6</td>\n      <td>0</td>\n      <td>0 days 00:00:06</td>\n      <td>0.999649</td>\n    </tr>\n    <tr>\n      <th>9</th>\n      <td>668</td>\n      <td>940.0</td>\n      <td>942.0</td>\n      <td>941.0</td>\n      <td>941.0</td>\n      <td>942.0</td>\n      <td>940.0</td>\n      <td>23.0</td>\n      <td>21.0</td>\n      <td>22.0</td>\n      <td>6</td>\n      <td>1</td>\n      <td>0 days 00:00:45</td>\n      <td>1.000146</td>\n    </tr>\n    <tr>\n      <th>10</th>\n      <td>3700</td>\n      <td>229.0</td>\n      <td>570.0</td>\n      <td>21.0</td>\n      <td>229.0</td>\n      <td>21.0</td>\n      <td>21.0</td>\n      <td>21.0</td>\n      <td>2336.0</td>\n      <td>2044.0</td>\n      <td>5</td>\n      <td>1</td>\n      <td>0 days 00:01:27</td>\n      <td>1.000145</td>\n    </tr>\n  </tbody>\n</table>\n</div>"
     },
     "metadata": {},
     "execution_count": 181
    }
   ],
   "source": [
    "DF_Full1.head(10)"
   ]
  },
  {
   "cell_type": "code",
   "execution_count": 182,
   "metadata": {},
   "outputs": [],
   "source": [
    "DF_Full1 = preprocessing.OneHotEncoder().fit_transform(DF_Full1)"
   ]
  },
  {
   "cell_type": "code",
   "execution_count": 183,
   "metadata": {},
   "outputs": [
    {
     "output_type": "execute_result",
     "data": {
      "text/plain": [
       "<336358x185036 sparse matrix of type '<class 'numpy.float64'>'\n",
       "\twith 4709012 stored elements in Compressed Sparse Row format>"
      ]
     },
     "metadata": {},
     "execution_count": 183
    }
   ],
   "source": [
    "DF_Full1"
   ]
  },
  {
   "cell_type": "code",
   "execution_count": null,
   "metadata": {},
   "outputs": [],
   "source": []
  },
  {
   "cell_type": "code",
   "execution_count": null,
   "metadata": {},
   "outputs": [],
   "source": []
  },
  {
   "cell_type": "code",
   "execution_count": null,
   "metadata": {},
   "outputs": [],
   "source": []
  },
  {
   "cell_type": "code",
   "execution_count": null,
   "metadata": {},
   "outputs": [],
   "source": []
  },
  {
   "cell_type": "code",
   "execution_count": 36,
   "metadata": {},
   "outputs": [],
   "source": [
    "#Отсоединение измененной Обучающей выборки от измененной целой и обучение моделей "
   ]
  },
  {
   "cell_type": "code",
   "execution_count": 184,
   "metadata": {},
   "outputs": [
    {
     "output_type": "execute_result",
     "data": {
      "text/plain": [
       "<253561x185036 sparse matrix of type '<class 'numpy.float64'>'\n",
       "\twith 3549854 stored elements in Compressed Sparse Row format>"
      ]
     },
     "metadata": {},
     "execution_count": 184
    }
   ],
   "source": [
    "X = DF_Full1[:253561]\n",
    "X"
   ]
  },
  {
   "cell_type": "code",
   "execution_count": 185,
   "metadata": {},
   "outputs": [],
   "source": [
    "y = train_df.target"
   ]
  },
  {
   "cell_type": "code",
   "execution_count": 186,
   "metadata": {},
   "outputs": [],
   "source": [
    "X_train, X_test, y_train, y_test = train_test_split(X, y, train_size=0.8, random_state=17)"
   ]
  },
  {
   "cell_type": "code",
   "execution_count": 187,
   "metadata": {},
   "outputs": [],
   "source": [
    "# МОДЕЛИ:"
   ]
  },
  {
   "cell_type": "code",
   "execution_count": 188,
   "metadata": {},
   "outputs": [],
   "source": [
    "Logistic1 = LogisticRegression(C=1.0, n_jobs=-1)\n"
   ]
  },
  {
   "cell_type": "code",
   "execution_count": 195,
   "metadata": {},
   "outputs": [],
   "source": [
    "sgd1 = SGDClassifier(loss='log', random_state=42, n_jobs=-1, alpha=5e-06, max_iter=500)"
   ]
  },
  {
   "cell_type": "code",
   "execution_count": null,
   "metadata": {},
   "outputs": [],
   "source": []
  },
  {
   "cell_type": "code",
   "execution_count": 196,
   "metadata": {},
   "outputs": [],
   "source": [
    "def Modelauc (model1, model2, X_train, X_test, y_train, y_test):\n",
    "    pok = []\n",
    "    model_list = [model1, model2]\n",
    "    for model in model_list:\n",
    "        model.fit(X_train, y_train)\n",
    "        #ab = model.predict_proba(X_test)\n",
    "        a = roc_auc_score(y_test, model.predict_proba(X_test)[:, 1]);\n",
    "        b = precision_score(y_test, model.predict(X_test));\n",
    "        c = recall_score(y_test, model.predict(X_test));\n",
    "\n",
    "        pok.append(model.predict_proba(X_test)[:, 1]);\n",
    "\n",
    "        print('For model', str(model)[0:11], 'ROC_AUC=', a)\n",
    "        print('For model', str(model)[0:11], 'Prec=', b)\n",
    "        print('For model', str(model)[0:11], 'Recall=', c)\n",
    "        print('____________________________________________________')\n",
    "        print('                                                    ')\n",
    "    # return(pok)\n",
    "\n",
    "    tablet = pd.DataFrame({'aa':pok[0], 'ab': pok[1]})\n",
    "    tablet['Res'] = (tablet.aa + tablet.ab)/2\n",
    "    print(tablet)\n",
    "    print(roc_auc_score(y_test, tablet['Res']))\n",
    "\n",
    "   "
   ]
  },
  {
   "cell_type": "code",
   "execution_count": 197,
   "metadata": {},
   "outputs": [
    {
     "output_type": "stream",
     "name": "stdout",
     "text": [
      "For model LogisticReg ROC_AUC= 0.9675909574116552\n",
      "For model LogisticReg Prec= 0.7565217391304347\n",
      "For model LogisticReg Recall= 0.19908466819221968\n",
      "____________________________________________________\n",
      "                                                    \n",
      "For model SGDClassifi ROC_AUC= 0.9648584436337049\n",
      "For model SGDClassifi Prec= 0.6834532374100719\n",
      "For model SGDClassifi Recall= 0.21739130434782608\n",
      "____________________________________________________\n",
      "                                                    \n",
      "             aa        ab       Res\n",
      "0      0.002236  0.002286  0.002261\n",
      "1      0.040937  0.068700  0.054819\n",
      "2      0.000841  0.000740  0.000790\n",
      "3      0.000012  0.000010  0.000011\n",
      "4      0.000004  0.000003  0.000003\n",
      "...         ...       ...       ...\n",
      "50708  0.000422  0.000300  0.000361\n",
      "50709  0.000253  0.000054  0.000153\n",
      "50710  0.000080  0.000095  0.000088\n",
      "50711  0.000024  0.000030  0.000027\n",
      "50712  0.000008  0.000016  0.000012\n",
      "\n",
      "[50713 rows x 3 columns]\n",
      "0.9667491966086335\n"
     ]
    }
   ],
   "source": [
    "Modelauc(Logistic1, sgd1, X_train, X_test, y_train, y_test)"
   ]
  },
  {
   "cell_type": "code",
   "execution_count": null,
   "metadata": {},
   "outputs": [],
   "source": [
    "#Отсоединение измененной тестовой выборки от измененной целой"
   ]
  },
  {
   "cell_type": "code",
   "execution_count": 192,
   "metadata": {},
   "outputs": [
    {
     "output_type": "execute_result",
     "data": {
      "text/plain": [
       "<82797x185036 sparse matrix of type '<class 'numpy.float64'>'\n",
       "\twith 1159158 stored elements in Compressed Sparse Row format>"
      ]
     },
     "metadata": {},
     "execution_count": 192
    }
   ],
   "source": [
    "Finial_Test = DF_Full1[253561:]\n",
    "Finial_Test"
   ]
  },
  {
   "cell_type": "code",
   "execution_count": 193,
   "metadata": {},
   "outputs": [],
   "source": [
    "def Result (model1, model2, X_test):\n",
    "    pok = []\n",
    "    model_list = [model1, model2]\n",
    "    for model in model_list:\n",
    "        model.fit(X, train_df.target)\n",
    "        \n",
    "        \n",
    "        # a = roc_auc_score(y_test, model.predict_proba(X_test)[:, 1]);\n",
    "        # b = precision_score(y_test, model.predict(X_test));\n",
    "        # c = recall_score(y_test, model.predict(X_test));\n",
    "\n",
    "        pok.append(model.predict_proba(X_test)[:, 1]);\n",
    "\n",
    "     \n",
    "    # return(pok)\n",
    "\n",
    "    tablet = pd.DataFrame({'aa':pok[0], 'ab': pok[1]})\n",
    "    tablet['Res'] = (tablet.aa + tablet.ab)/2\n",
    "    print(tablet)\n",
    "    print('____________________________________________________')\n",
    "    print('                                                    ')\n",
    "\n",
    "    pd.DataFrame({'session_id': range(1, 82798), 'target': tablet.Res}).set_index('session_id').to_csv('Try1_Catch_Alice.csv')"
   ]
  },
  {
   "cell_type": "code",
   "execution_count": 194,
   "metadata": {},
   "outputs": [
    {
     "output_type": "stream",
     "name": "stdout",
     "text": [
      "                 aa        ab       Res\n0      1.095949e-04  0.007548  0.003829\n1      5.108782e-07  0.000060  0.000030\n2      5.895378e-07  0.000106  0.000053\n3      2.025562e-06  0.000341  0.000172\n4      1.954385e-04  0.018159  0.009177\n...             ...       ...       ...\n82792  3.040513e-04  0.017883  0.009094\n82793  4.789687e-04  0.029352  0.014916\n82794  3.128649e-04  0.027252  0.013783\n82795  4.338946e-05  0.002861  0.001452\n82796  1.881069e-06  0.000249  0.000125\n\n[82797 rows x 3 columns]\n____________________________________________________\n                                                    \n"
     ]
    }
   ],
   "source": [
    "Result(Logistic1, sgd1, Finial_Test)"
   ]
  },
  {
   "cell_type": "code",
   "execution_count": null,
   "metadata": {},
   "outputs": [],
   "source": []
  },
  {
   "cell_type": "code",
   "execution_count": 116,
   "metadata": {},
   "outputs": [],
   "source": [
    "pd.DataFrame({'session_id': range(1, 82798), 'target': gridsearchLOGISTIC2.predict_proba(Finial_Test)[:, 1]}).set_index('session_id').to_csv('Try1_Catch_Alice.csv')"
   ]
  },
  {
   "cell_type": "code",
   "execution_count": null,
   "metadata": {},
   "outputs": [],
   "source": []
  }
 ]
}