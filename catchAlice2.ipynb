{
 "metadata": {
  "language_info": {
   "codemirror_mode": {
    "name": "ipython",
    "version": 3
   },
   "file_extension": ".py",
   "mimetype": "text/x-python",
   "name": "python",
   "nbconvert_exporter": "python",
   "pygments_lexer": "ipython3",
   "version": "3.9.2-final"
  },
  "orig_nbformat": 2,
  "kernelspec": {
   "name": "python3",
   "display_name": "Python 3.9.2 64-bit",
   "metadata": {
    "interpreter": {
     "hash": "0c4ae07e6201a9646f982233620b6c46e5ada1f701acba0bbcad6b03cab1a2de"
    }
   }
  }
 },
 "nbformat": 4,
 "nbformat_minor": 2,
 "cells": [
  {
   "cell_type": "code",
   "execution_count": 69,
   "metadata": {},
   "outputs": [],
   "source": [
    "\n",
    "import numpy as np\n",
    "import pandas as pd\n",
    "\n",
    "\n",
    "from scipy.sparse import csr_matrix, hstack\n",
    "from sklearn.preprocessing import StandardScaler\n",
    "from sklearn.metrics import roc_auc_score\n",
    "from sklearn import preprocessing\n",
    "from sklearn.linear_model import LogisticRegression, SGDRegressor\n",
    "from sklearn.linear_model import SGDClassifier\n",
    "%matplotlib inline\n",
    "from matplotlib import pyplot as plt\n",
    "import seaborn as sns\n",
    "from sklearn.model_selection import train_test_split\n",
    "import scipy\n",
    "from sklearn.tree import DecisionTreeClassifier\n",
    "from sklearn.tree import DecisionTreeRegressor\n",
    "from sklearn.model_selection import GridSearchCV\n",
    "from sklearn.metrics import precision_score, recall_score, accuracy_score\n",
    "from sklearn.feature_extraction.text import CountVectorizer\n",
    "from scipy.sparse import csr_matrix\n",
    "\n",
    "from sklearn.linear_model import LinearRegression, Lasso, Ridge, LassoCV, RidgeCV"
   ]
  },
  {
   "cell_type": "code",
   "execution_count": 72,
   "metadata": {},
   "outputs": [],
   "source": [
    "train_df = pd.read_csv(r'D:\\Загрузки\\train_sessions.csv\\train_sessions.csv', index_col='session_id')"
   ]
  },
  {
   "cell_type": "code",
   "execution_count": 73,
   "metadata": {},
   "outputs": [],
   "source": [
    "test_df = pd.read_csv(r'D:\\Загрузки\\test_sessions.csv\\test_sessions.csv', index_col='session_id')"
   ]
  },
  {
   "cell_type": "code",
   "execution_count": 74,
   "metadata": {},
   "outputs": [],
   "source": [
    "# В обучающей выборке train_sessions.csv:\n",
    "\n",
    "# Признаки site_i – это индексы посещенных сайтов (расшифровка дана в pickle-файле со словарем site_dic.pkl)\n",
    "# Признаки time_j – время посещения сайтов site_j\n",
    "# Целевой признак target – факт того, что сессия принадлежит Элис (то есть что именно Элис ходила по всем этим сайтам)"
   ]
  },
  {
   "cell_type": "code",
   "execution_count": 75,
   "metadata": {},
   "outputs": [
    {
     "output_type": "execute_result",
     "data": {
      "text/plain": [
       "            site1                time1    site2                time2    site3  \\\n",
       "session_id                                                                      \n",
       "1             718  2014-02-20 10:02:45      NaN                  NaN      NaN   \n",
       "2             890  2014-02-22 11:19:50    941.0  2014-02-22 11:19:50   3847.0   \n",
       "3           14769  2013-12-16 16:40:17     39.0  2013-12-16 16:40:18  14768.0   \n",
       "4             782  2014-03-28 10:52:12    782.0  2014-03-28 10:52:42    782.0   \n",
       "5              22  2014-02-28 10:53:05    177.0  2014-02-28 10:55:22    175.0   \n",
       "...           ...                  ...      ...                  ...      ...   \n",
       "253557       3474  2013-11-25 10:26:54   3474.0  2013-11-25 10:26:58    141.0   \n",
       "253558      12727  2013-03-12 16:01:15  12727.0  2013-03-12 16:01:16   2215.0   \n",
       "253559       2661  2013-09-12 14:05:03  15004.0  2013-09-12 14:05:10   5562.0   \n",
       "253560        812  2013-12-19 15:20:22    676.0  2013-12-19 15:20:22    814.0   \n",
       "253561      34942  2014-04-25 09:56:52   1429.0  2014-04-25 09:56:53  34942.0   \n",
       "\n",
       "                          time3    site4                time4   site5  \\\n",
       "session_id                                                              \n",
       "1                           NaN      NaN                  NaN     NaN   \n",
       "2           2014-02-22 11:19:51    941.0  2014-02-22 11:19:51   942.0   \n",
       "3           2013-12-16 16:40:19  14769.0  2013-12-16 16:40:19    37.0   \n",
       "4           2014-03-28 10:53:12    782.0  2014-03-28 10:53:42   782.0   \n",
       "5           2014-02-28 10:55:22    178.0  2014-02-28 10:55:23   177.0   \n",
       "...                         ...      ...                  ...     ...   \n",
       "253557      2013-11-25 10:27:03   2428.0  2013-11-25 10:27:04   106.0   \n",
       "253558      2013-03-12 16:01:16     38.0  2013-03-12 16:01:17  2215.0   \n",
       "253559      2013-09-12 14:05:10   5562.0  2013-09-12 14:06:29  5562.0   \n",
       "253560      2013-12-19 15:20:22     22.0  2013-12-19 15:20:22    39.0   \n",
       "253561      2014-04-25 09:56:53     29.0  2014-04-25 09:56:54    30.0   \n",
       "\n",
       "                          time5  ...                time6    site7  \\\n",
       "session_id                       ...                                 \n",
       "1                           NaN  ...                  NaN      NaN   \n",
       "2           2014-02-22 11:19:51  ...  2014-02-22 11:19:51   3847.0   \n",
       "3           2013-12-16 16:40:19  ...  2013-12-16 16:40:19  14768.0   \n",
       "4           2014-03-28 10:54:12  ...  2014-03-28 10:54:42    782.0   \n",
       "5           2014-02-28 10:55:23  ...  2014-02-28 10:55:59    175.0   \n",
       "...                         ...  ...                  ...      ...   \n",
       "253557      2013-11-25 10:27:13  ...  2013-11-25 10:27:16   2428.0   \n",
       "253558      2013-03-12 16:01:17  ...  2013-03-12 16:01:17  25444.0   \n",
       "253559      2013-09-12 14:06:30  ...                  NaN      NaN   \n",
       "253560      2013-12-19 15:20:22  ...  2013-12-19 15:20:23    814.0   \n",
       "253561      2014-04-25 09:56:54  ...  2014-04-25 09:56:54   5779.0   \n",
       "\n",
       "                          time7    site8                time8    site9  \\\n",
       "session_id                                                               \n",
       "1                           NaN      NaN                  NaN      NaN   \n",
       "2           2014-02-22 11:19:52   3846.0  2014-02-22 11:19:52   1516.0   \n",
       "3           2013-12-16 16:40:20  14768.0  2013-12-16 16:40:21  14768.0   \n",
       "4           2014-03-28 10:55:12    782.0  2014-03-28 10:55:42    782.0   \n",
       "5           2014-02-28 10:55:59    177.0  2014-02-28 10:55:59    177.0   \n",
       "...                         ...      ...                  ...      ...   \n",
       "253557      2013-11-25 10:27:28   2428.0  2013-11-25 10:27:40   2428.0   \n",
       "253558      2013-03-12 16:01:18   2215.0  2013-03-12 16:01:18     23.0   \n",
       "253559                      NaN      NaN                  NaN      NaN   \n",
       "253560      2013-12-19 15:20:23    570.0  2013-12-19 15:20:23     22.0   \n",
       "253561      2014-04-25 09:56:54     30.0  2014-04-25 09:56:55     35.0   \n",
       "\n",
       "                          time9   site10               time10 target  \n",
       "session_id                                                            \n",
       "1                           NaN      NaN                  NaN      0  \n",
       "2           2014-02-22 11:20:15   1518.0  2014-02-22 11:20:16      0  \n",
       "3           2013-12-16 16:40:22  14768.0  2013-12-16 16:40:24      0  \n",
       "4           2014-03-28 10:56:12    782.0  2014-03-28 10:56:42      0  \n",
       "5           2014-02-28 10:57:06    178.0  2014-02-28 10:57:11      0  \n",
       "...                         ...      ...                  ...    ...  \n",
       "253557      2013-11-25 10:27:52    148.0  2013-11-25 10:27:53      0  \n",
       "253558      2013-03-12 16:01:18     21.0  2013-03-12 16:01:18      0  \n",
       "253559                      NaN      NaN                  NaN      0  \n",
       "253560      2013-12-19 15:20:24    570.0  2013-12-19 15:20:24      0  \n",
       "253561      2014-04-25 09:56:55     33.0  2014-04-25 09:56:55      0  \n",
       "\n",
       "[253561 rows x 21 columns]"
      ],
      "text/html": "<div>\n<style scoped>\n    .dataframe tbody tr th:only-of-type {\n        vertical-align: middle;\n    }\n\n    .dataframe tbody tr th {\n        vertical-align: top;\n    }\n\n    .dataframe thead th {\n        text-align: right;\n    }\n</style>\n<table border=\"1\" class=\"dataframe\">\n  <thead>\n    <tr style=\"text-align: right;\">\n      <th></th>\n      <th>site1</th>\n      <th>time1</th>\n      <th>site2</th>\n      <th>time2</th>\n      <th>site3</th>\n      <th>time3</th>\n      <th>site4</th>\n      <th>time4</th>\n      <th>site5</th>\n      <th>time5</th>\n      <th>...</th>\n      <th>time6</th>\n      <th>site7</th>\n      <th>time7</th>\n      <th>site8</th>\n      <th>time8</th>\n      <th>site9</th>\n      <th>time9</th>\n      <th>site10</th>\n      <th>time10</th>\n      <th>target</th>\n    </tr>\n    <tr>\n      <th>session_id</th>\n      <th></th>\n      <th></th>\n      <th></th>\n      <th></th>\n      <th></th>\n      <th></th>\n      <th></th>\n      <th></th>\n      <th></th>\n      <th></th>\n      <th></th>\n      <th></th>\n      <th></th>\n      <th></th>\n      <th></th>\n      <th></th>\n      <th></th>\n      <th></th>\n      <th></th>\n      <th></th>\n      <th></th>\n    </tr>\n  </thead>\n  <tbody>\n    <tr>\n      <th>1</th>\n      <td>718</td>\n      <td>2014-02-20 10:02:45</td>\n      <td>NaN</td>\n      <td>NaN</td>\n      <td>NaN</td>\n      <td>NaN</td>\n      <td>NaN</td>\n      <td>NaN</td>\n      <td>NaN</td>\n      <td>NaN</td>\n      <td>...</td>\n      <td>NaN</td>\n      <td>NaN</td>\n      <td>NaN</td>\n      <td>NaN</td>\n      <td>NaN</td>\n      <td>NaN</td>\n      <td>NaN</td>\n      <td>NaN</td>\n      <td>NaN</td>\n      <td>0</td>\n    </tr>\n    <tr>\n      <th>2</th>\n      <td>890</td>\n      <td>2014-02-22 11:19:50</td>\n      <td>941.0</td>\n      <td>2014-02-22 11:19:50</td>\n      <td>3847.0</td>\n      <td>2014-02-22 11:19:51</td>\n      <td>941.0</td>\n      <td>2014-02-22 11:19:51</td>\n      <td>942.0</td>\n      <td>2014-02-22 11:19:51</td>\n      <td>...</td>\n      <td>2014-02-22 11:19:51</td>\n      <td>3847.0</td>\n      <td>2014-02-22 11:19:52</td>\n      <td>3846.0</td>\n      <td>2014-02-22 11:19:52</td>\n      <td>1516.0</td>\n      <td>2014-02-22 11:20:15</td>\n      <td>1518.0</td>\n      <td>2014-02-22 11:20:16</td>\n      <td>0</td>\n    </tr>\n    <tr>\n      <th>3</th>\n      <td>14769</td>\n      <td>2013-12-16 16:40:17</td>\n      <td>39.0</td>\n      <td>2013-12-16 16:40:18</td>\n      <td>14768.0</td>\n      <td>2013-12-16 16:40:19</td>\n      <td>14769.0</td>\n      <td>2013-12-16 16:40:19</td>\n      <td>37.0</td>\n      <td>2013-12-16 16:40:19</td>\n      <td>...</td>\n      <td>2013-12-16 16:40:19</td>\n      <td>14768.0</td>\n      <td>2013-12-16 16:40:20</td>\n      <td>14768.0</td>\n      <td>2013-12-16 16:40:21</td>\n      <td>14768.0</td>\n      <td>2013-12-16 16:40:22</td>\n      <td>14768.0</td>\n      <td>2013-12-16 16:40:24</td>\n      <td>0</td>\n    </tr>\n    <tr>\n      <th>4</th>\n      <td>782</td>\n      <td>2014-03-28 10:52:12</td>\n      <td>782.0</td>\n      <td>2014-03-28 10:52:42</td>\n      <td>782.0</td>\n      <td>2014-03-28 10:53:12</td>\n      <td>782.0</td>\n      <td>2014-03-28 10:53:42</td>\n      <td>782.0</td>\n      <td>2014-03-28 10:54:12</td>\n      <td>...</td>\n      <td>2014-03-28 10:54:42</td>\n      <td>782.0</td>\n      <td>2014-03-28 10:55:12</td>\n      <td>782.0</td>\n      <td>2014-03-28 10:55:42</td>\n      <td>782.0</td>\n      <td>2014-03-28 10:56:12</td>\n      <td>782.0</td>\n      <td>2014-03-28 10:56:42</td>\n      <td>0</td>\n    </tr>\n    <tr>\n      <th>5</th>\n      <td>22</td>\n      <td>2014-02-28 10:53:05</td>\n      <td>177.0</td>\n      <td>2014-02-28 10:55:22</td>\n      <td>175.0</td>\n      <td>2014-02-28 10:55:22</td>\n      <td>178.0</td>\n      <td>2014-02-28 10:55:23</td>\n      <td>177.0</td>\n      <td>2014-02-28 10:55:23</td>\n      <td>...</td>\n      <td>2014-02-28 10:55:59</td>\n      <td>175.0</td>\n      <td>2014-02-28 10:55:59</td>\n      <td>177.0</td>\n      <td>2014-02-28 10:55:59</td>\n      <td>177.0</td>\n      <td>2014-02-28 10:57:06</td>\n      <td>178.0</td>\n      <td>2014-02-28 10:57:11</td>\n      <td>0</td>\n    </tr>\n    <tr>\n      <th>...</th>\n      <td>...</td>\n      <td>...</td>\n      <td>...</td>\n      <td>...</td>\n      <td>...</td>\n      <td>...</td>\n      <td>...</td>\n      <td>...</td>\n      <td>...</td>\n      <td>...</td>\n      <td>...</td>\n      <td>...</td>\n      <td>...</td>\n      <td>...</td>\n      <td>...</td>\n      <td>...</td>\n      <td>...</td>\n      <td>...</td>\n      <td>...</td>\n      <td>...</td>\n      <td>...</td>\n    </tr>\n    <tr>\n      <th>253557</th>\n      <td>3474</td>\n      <td>2013-11-25 10:26:54</td>\n      <td>3474.0</td>\n      <td>2013-11-25 10:26:58</td>\n      <td>141.0</td>\n      <td>2013-11-25 10:27:03</td>\n      <td>2428.0</td>\n      <td>2013-11-25 10:27:04</td>\n      <td>106.0</td>\n      <td>2013-11-25 10:27:13</td>\n      <td>...</td>\n      <td>2013-11-25 10:27:16</td>\n      <td>2428.0</td>\n      <td>2013-11-25 10:27:28</td>\n      <td>2428.0</td>\n      <td>2013-11-25 10:27:40</td>\n      <td>2428.0</td>\n      <td>2013-11-25 10:27:52</td>\n      <td>148.0</td>\n      <td>2013-11-25 10:27:53</td>\n      <td>0</td>\n    </tr>\n    <tr>\n      <th>253558</th>\n      <td>12727</td>\n      <td>2013-03-12 16:01:15</td>\n      <td>12727.0</td>\n      <td>2013-03-12 16:01:16</td>\n      <td>2215.0</td>\n      <td>2013-03-12 16:01:16</td>\n      <td>38.0</td>\n      <td>2013-03-12 16:01:17</td>\n      <td>2215.0</td>\n      <td>2013-03-12 16:01:17</td>\n      <td>...</td>\n      <td>2013-03-12 16:01:17</td>\n      <td>25444.0</td>\n      <td>2013-03-12 16:01:18</td>\n      <td>2215.0</td>\n      <td>2013-03-12 16:01:18</td>\n      <td>23.0</td>\n      <td>2013-03-12 16:01:18</td>\n      <td>21.0</td>\n      <td>2013-03-12 16:01:18</td>\n      <td>0</td>\n    </tr>\n    <tr>\n      <th>253559</th>\n      <td>2661</td>\n      <td>2013-09-12 14:05:03</td>\n      <td>15004.0</td>\n      <td>2013-09-12 14:05:10</td>\n      <td>5562.0</td>\n      <td>2013-09-12 14:05:10</td>\n      <td>5562.0</td>\n      <td>2013-09-12 14:06:29</td>\n      <td>5562.0</td>\n      <td>2013-09-12 14:06:30</td>\n      <td>...</td>\n      <td>NaN</td>\n      <td>NaN</td>\n      <td>NaN</td>\n      <td>NaN</td>\n      <td>NaN</td>\n      <td>NaN</td>\n      <td>NaN</td>\n      <td>NaN</td>\n      <td>NaN</td>\n      <td>0</td>\n    </tr>\n    <tr>\n      <th>253560</th>\n      <td>812</td>\n      <td>2013-12-19 15:20:22</td>\n      <td>676.0</td>\n      <td>2013-12-19 15:20:22</td>\n      <td>814.0</td>\n      <td>2013-12-19 15:20:22</td>\n      <td>22.0</td>\n      <td>2013-12-19 15:20:22</td>\n      <td>39.0</td>\n      <td>2013-12-19 15:20:22</td>\n      <td>...</td>\n      <td>2013-12-19 15:20:23</td>\n      <td>814.0</td>\n      <td>2013-12-19 15:20:23</td>\n      <td>570.0</td>\n      <td>2013-12-19 15:20:23</td>\n      <td>22.0</td>\n      <td>2013-12-19 15:20:24</td>\n      <td>570.0</td>\n      <td>2013-12-19 15:20:24</td>\n      <td>0</td>\n    </tr>\n    <tr>\n      <th>253561</th>\n      <td>34942</td>\n      <td>2014-04-25 09:56:52</td>\n      <td>1429.0</td>\n      <td>2014-04-25 09:56:53</td>\n      <td>34942.0</td>\n      <td>2014-04-25 09:56:53</td>\n      <td>29.0</td>\n      <td>2014-04-25 09:56:54</td>\n      <td>30.0</td>\n      <td>2014-04-25 09:56:54</td>\n      <td>...</td>\n      <td>2014-04-25 09:56:54</td>\n      <td>5779.0</td>\n      <td>2014-04-25 09:56:54</td>\n      <td>30.0</td>\n      <td>2014-04-25 09:56:55</td>\n      <td>35.0</td>\n      <td>2014-04-25 09:56:55</td>\n      <td>33.0</td>\n      <td>2014-04-25 09:56:55</td>\n      <td>0</td>\n    </tr>\n  </tbody>\n</table>\n<p>253561 rows × 21 columns</p>\n</div>"
     },
     "metadata": {},
     "execution_count": 75
    }
   ],
   "source": [
    "train_df"
   ]
  },
  {
   "cell_type": "code",
   "execution_count": 76,
   "metadata": {},
   "outputs": [
    {
     "output_type": "execute_result",
     "data": {
      "text/plain": [
       "            site1                time1   site2                time2  site3  \\\n",
       "session_id                                                                   \n",
       "1              29  2014-10-04 11:19:53    35.0  2014-10-04 11:19:53   22.0   \n",
       "2             782  2014-07-03 11:00:28   782.0  2014-07-03 11:00:53  782.0   \n",
       "3              55  2014-12-05 15:55:12    55.0  2014-12-05 15:55:13   55.0   \n",
       "4            1023  2014-11-04 10:03:19  1022.0  2014-11-04 10:03:19   50.0   \n",
       "5             301  2014-05-16 15:05:31   301.0  2014-05-16 15:05:32  301.0   \n",
       "\n",
       "                          time3  site4                time4  site5  \\\n",
       "session_id                                                           \n",
       "1           2014-10-04 11:19:54  321.0  2014-10-04 11:19:54   23.0   \n",
       "2           2014-07-03 11:00:58  782.0  2014-07-03 11:01:06  782.0   \n",
       "3           2014-12-05 15:55:14   55.0  2014-12-05 15:56:15   55.0   \n",
       "4           2014-11-04 10:03:20  222.0  2014-11-04 10:03:21  202.0   \n",
       "5           2014-05-16 15:05:33   66.0  2014-05-16 15:05:39   67.0   \n",
       "\n",
       "                          time5   site6                time6   site7  \\\n",
       "session_id                                                             \n",
       "1           2014-10-04 11:19:54  2211.0  2014-10-04 11:19:54  6730.0   \n",
       "2           2014-07-03 11:01:09   782.0  2014-07-03 11:01:10   782.0   \n",
       "3           2014-12-05 15:56:16    55.0  2014-12-05 15:56:17    55.0   \n",
       "4           2014-11-04 10:03:21  3374.0  2014-11-04 10:03:22    50.0   \n",
       "5           2014-05-16 15:05:40    69.0  2014-05-16 15:05:40    70.0   \n",
       "\n",
       "                          time7  site8                time8    site9  \\\n",
       "session_id                                                             \n",
       "1           2014-10-04 11:19:54   21.0  2014-10-04 11:19:54  44582.0   \n",
       "2           2014-07-03 11:01:23  782.0  2014-07-03 11:01:29    782.0   \n",
       "3           2014-12-05 15:56:18   55.0  2014-12-05 15:56:19   1445.0   \n",
       "4           2014-11-04 10:03:22   48.0  2014-11-04 10:03:22     48.0   \n",
       "5           2014-05-16 15:05:40   68.0  2014-05-16 15:05:40     71.0   \n",
       "\n",
       "                          time9   site10               time10  \n",
       "session_id                                                     \n",
       "1           2014-10-04 11:20:00  15336.0  2014-10-04 11:20:00  \n",
       "2           2014-07-03 11:01:30    782.0  2014-07-03 11:01:53  \n",
       "3           2014-12-05 15:56:33   1445.0  2014-12-05 15:56:36  \n",
       "4           2014-11-04 10:03:23   3374.0  2014-11-04 10:03:23  \n",
       "5           2014-05-16 15:05:40    167.0  2014-05-16 15:05:44  "
      ],
      "text/html": "<div>\n<style scoped>\n    .dataframe tbody tr th:only-of-type {\n        vertical-align: middle;\n    }\n\n    .dataframe tbody tr th {\n        vertical-align: top;\n    }\n\n    .dataframe thead th {\n        text-align: right;\n    }\n</style>\n<table border=\"1\" class=\"dataframe\">\n  <thead>\n    <tr style=\"text-align: right;\">\n      <th></th>\n      <th>site1</th>\n      <th>time1</th>\n      <th>site2</th>\n      <th>time2</th>\n      <th>site3</th>\n      <th>time3</th>\n      <th>site4</th>\n      <th>time4</th>\n      <th>site5</th>\n      <th>time5</th>\n      <th>site6</th>\n      <th>time6</th>\n      <th>site7</th>\n      <th>time7</th>\n      <th>site8</th>\n      <th>time8</th>\n      <th>site9</th>\n      <th>time9</th>\n      <th>site10</th>\n      <th>time10</th>\n    </tr>\n    <tr>\n      <th>session_id</th>\n      <th></th>\n      <th></th>\n      <th></th>\n      <th></th>\n      <th></th>\n      <th></th>\n      <th></th>\n      <th></th>\n      <th></th>\n      <th></th>\n      <th></th>\n      <th></th>\n      <th></th>\n      <th></th>\n      <th></th>\n      <th></th>\n      <th></th>\n      <th></th>\n      <th></th>\n      <th></th>\n    </tr>\n  </thead>\n  <tbody>\n    <tr>\n      <th>1</th>\n      <td>29</td>\n      <td>2014-10-04 11:19:53</td>\n      <td>35.0</td>\n      <td>2014-10-04 11:19:53</td>\n      <td>22.0</td>\n      <td>2014-10-04 11:19:54</td>\n      <td>321.0</td>\n      <td>2014-10-04 11:19:54</td>\n      <td>23.0</td>\n      <td>2014-10-04 11:19:54</td>\n      <td>2211.0</td>\n      <td>2014-10-04 11:19:54</td>\n      <td>6730.0</td>\n      <td>2014-10-04 11:19:54</td>\n      <td>21.0</td>\n      <td>2014-10-04 11:19:54</td>\n      <td>44582.0</td>\n      <td>2014-10-04 11:20:00</td>\n      <td>15336.0</td>\n      <td>2014-10-04 11:20:00</td>\n    </tr>\n    <tr>\n      <th>2</th>\n      <td>782</td>\n      <td>2014-07-03 11:00:28</td>\n      <td>782.0</td>\n      <td>2014-07-03 11:00:53</td>\n      <td>782.0</td>\n      <td>2014-07-03 11:00:58</td>\n      <td>782.0</td>\n      <td>2014-07-03 11:01:06</td>\n      <td>782.0</td>\n      <td>2014-07-03 11:01:09</td>\n      <td>782.0</td>\n      <td>2014-07-03 11:01:10</td>\n      <td>782.0</td>\n      <td>2014-07-03 11:01:23</td>\n      <td>782.0</td>\n      <td>2014-07-03 11:01:29</td>\n      <td>782.0</td>\n      <td>2014-07-03 11:01:30</td>\n      <td>782.0</td>\n      <td>2014-07-03 11:01:53</td>\n    </tr>\n    <tr>\n      <th>3</th>\n      <td>55</td>\n      <td>2014-12-05 15:55:12</td>\n      <td>55.0</td>\n      <td>2014-12-05 15:55:13</td>\n      <td>55.0</td>\n      <td>2014-12-05 15:55:14</td>\n      <td>55.0</td>\n      <td>2014-12-05 15:56:15</td>\n      <td>55.0</td>\n      <td>2014-12-05 15:56:16</td>\n      <td>55.0</td>\n      <td>2014-12-05 15:56:17</td>\n      <td>55.0</td>\n      <td>2014-12-05 15:56:18</td>\n      <td>55.0</td>\n      <td>2014-12-05 15:56:19</td>\n      <td>1445.0</td>\n      <td>2014-12-05 15:56:33</td>\n      <td>1445.0</td>\n      <td>2014-12-05 15:56:36</td>\n    </tr>\n    <tr>\n      <th>4</th>\n      <td>1023</td>\n      <td>2014-11-04 10:03:19</td>\n      <td>1022.0</td>\n      <td>2014-11-04 10:03:19</td>\n      <td>50.0</td>\n      <td>2014-11-04 10:03:20</td>\n      <td>222.0</td>\n      <td>2014-11-04 10:03:21</td>\n      <td>202.0</td>\n      <td>2014-11-04 10:03:21</td>\n      <td>3374.0</td>\n      <td>2014-11-04 10:03:22</td>\n      <td>50.0</td>\n      <td>2014-11-04 10:03:22</td>\n      <td>48.0</td>\n      <td>2014-11-04 10:03:22</td>\n      <td>48.0</td>\n      <td>2014-11-04 10:03:23</td>\n      <td>3374.0</td>\n      <td>2014-11-04 10:03:23</td>\n    </tr>\n    <tr>\n      <th>5</th>\n      <td>301</td>\n      <td>2014-05-16 15:05:31</td>\n      <td>301.0</td>\n      <td>2014-05-16 15:05:32</td>\n      <td>301.0</td>\n      <td>2014-05-16 15:05:33</td>\n      <td>66.0</td>\n      <td>2014-05-16 15:05:39</td>\n      <td>67.0</td>\n      <td>2014-05-16 15:05:40</td>\n      <td>69.0</td>\n      <td>2014-05-16 15:05:40</td>\n      <td>70.0</td>\n      <td>2014-05-16 15:05:40</td>\n      <td>68.0</td>\n      <td>2014-05-16 15:05:40</td>\n      <td>71.0</td>\n      <td>2014-05-16 15:05:40</td>\n      <td>167.0</td>\n      <td>2014-05-16 15:05:44</td>\n    </tr>\n  </tbody>\n</table>\n</div>"
     },
     "metadata": {},
     "execution_count": 76
    }
   ],
   "source": [
    "test_df.head()"
   ]
  },
  {
   "cell_type": "code",
   "execution_count": 77,
   "metadata": {},
   "outputs": [
    {
     "output_type": "execute_result",
     "data": {
      "text/plain": [
       "(253561, 21)"
      ]
     },
     "metadata": {},
     "execution_count": 77
    }
   ],
   "source": [
    "train_df.shape"
   ]
  },
  {
   "cell_type": "code",
   "execution_count": 78,
   "metadata": {},
   "outputs": [
    {
     "output_type": "execute_result",
     "data": {
      "text/plain": [
       "(82797, 20)"
      ]
     },
     "metadata": {},
     "execution_count": 78
    }
   ],
   "source": [
    "test_df.shape"
   ]
  },
  {
   "cell_type": "code",
   "execution_count": null,
   "metadata": {},
   "outputs": [],
   "source": []
  },
  {
   "cell_type": "code",
   "execution_count": 79,
   "metadata": {},
   "outputs": [],
   "source": [
    "#Создание единого фрейма для удобства разработки фич, без повтора на тестовую выборку отдельно "
   ]
  },
  {
   "cell_type": "code",
   "execution_count": 80,
   "metadata": {},
   "outputs": [],
   "source": [
    "#отделить таргет от Трэйна и содеинить Трэйн с Тестом. Сумма строк составит 336 358"
   ]
  },
  {
   "cell_type": "code",
   "execution_count": 81,
   "metadata": {},
   "outputs": [],
   "source": [
    "DF_Full = pd.concat([train_df.drop('target', axis=1), test_df])"
   ]
  },
  {
   "cell_type": "code",
   "execution_count": 82,
   "metadata": {},
   "outputs": [
    {
     "output_type": "execute_result",
     "data": {
      "text/plain": [
       "(336358, 20)"
      ]
     },
     "metadata": {},
     "execution_count": 82
    }
   ],
   "source": [
    "DF_Full.shape"
   ]
  },
  {
   "cell_type": "code",
   "execution_count": 83,
   "metadata": {},
   "outputs": [
    {
     "output_type": "execute_result",
     "data": {
      "text/plain": [
       "            site1                time1  site2                time2    site3  \\\n",
       "session_id                                                                    \n",
       "1             718  2014-02-20 10:02:45    NaN                  NaN      NaN   \n",
       "2             890  2014-02-22 11:19:50  941.0  2014-02-22 11:19:50   3847.0   \n",
       "3           14769  2013-12-16 16:40:17   39.0  2013-12-16 16:40:18  14768.0   \n",
       "4             782  2014-03-28 10:52:12  782.0  2014-03-28 10:52:42    782.0   \n",
       "5              22  2014-02-28 10:53:05  177.0  2014-02-28 10:55:22    175.0   \n",
       "\n",
       "                          time3    site4                time4  site5  \\\n",
       "session_id                                                             \n",
       "1                           NaN      NaN                  NaN    NaN   \n",
       "2           2014-02-22 11:19:51    941.0  2014-02-22 11:19:51  942.0   \n",
       "3           2013-12-16 16:40:19  14769.0  2013-12-16 16:40:19   37.0   \n",
       "4           2014-03-28 10:53:12    782.0  2014-03-28 10:53:42  782.0   \n",
       "5           2014-02-28 10:55:22    178.0  2014-02-28 10:55:23  177.0   \n",
       "\n",
       "                          time5   site6                time6    site7  \\\n",
       "session_id                                                              \n",
       "1                           NaN     NaN                  NaN      NaN   \n",
       "2           2014-02-22 11:19:51  3846.0  2014-02-22 11:19:51   3847.0   \n",
       "3           2013-12-16 16:40:19    39.0  2013-12-16 16:40:19  14768.0   \n",
       "4           2014-03-28 10:54:12   782.0  2014-03-28 10:54:42    782.0   \n",
       "5           2014-02-28 10:55:23   178.0  2014-02-28 10:55:59    175.0   \n",
       "\n",
       "                          time7    site8                time8    site9  \\\n",
       "session_id                                                               \n",
       "1                           NaN      NaN                  NaN      NaN   \n",
       "2           2014-02-22 11:19:52   3846.0  2014-02-22 11:19:52   1516.0   \n",
       "3           2013-12-16 16:40:20  14768.0  2013-12-16 16:40:21  14768.0   \n",
       "4           2014-03-28 10:55:12    782.0  2014-03-28 10:55:42    782.0   \n",
       "5           2014-02-28 10:55:59    177.0  2014-02-28 10:55:59    177.0   \n",
       "\n",
       "                          time9   site10               time10  \n",
       "session_id                                                     \n",
       "1                           NaN      NaN                  NaN  \n",
       "2           2014-02-22 11:20:15   1518.0  2014-02-22 11:20:16  \n",
       "3           2013-12-16 16:40:22  14768.0  2013-12-16 16:40:24  \n",
       "4           2014-03-28 10:56:12    782.0  2014-03-28 10:56:42  \n",
       "5           2014-02-28 10:57:06    178.0  2014-02-28 10:57:11  "
      ],
      "text/html": "<div>\n<style scoped>\n    .dataframe tbody tr th:only-of-type {\n        vertical-align: middle;\n    }\n\n    .dataframe tbody tr th {\n        vertical-align: top;\n    }\n\n    .dataframe thead th {\n        text-align: right;\n    }\n</style>\n<table border=\"1\" class=\"dataframe\">\n  <thead>\n    <tr style=\"text-align: right;\">\n      <th></th>\n      <th>site1</th>\n      <th>time1</th>\n      <th>site2</th>\n      <th>time2</th>\n      <th>site3</th>\n      <th>time3</th>\n      <th>site4</th>\n      <th>time4</th>\n      <th>site5</th>\n      <th>time5</th>\n      <th>site6</th>\n      <th>time6</th>\n      <th>site7</th>\n      <th>time7</th>\n      <th>site8</th>\n      <th>time8</th>\n      <th>site9</th>\n      <th>time9</th>\n      <th>site10</th>\n      <th>time10</th>\n    </tr>\n    <tr>\n      <th>session_id</th>\n      <th></th>\n      <th></th>\n      <th></th>\n      <th></th>\n      <th></th>\n      <th></th>\n      <th></th>\n      <th></th>\n      <th></th>\n      <th></th>\n      <th></th>\n      <th></th>\n      <th></th>\n      <th></th>\n      <th></th>\n      <th></th>\n      <th></th>\n      <th></th>\n      <th></th>\n      <th></th>\n    </tr>\n  </thead>\n  <tbody>\n    <tr>\n      <th>1</th>\n      <td>718</td>\n      <td>2014-02-20 10:02:45</td>\n      <td>NaN</td>\n      <td>NaN</td>\n      <td>NaN</td>\n      <td>NaN</td>\n      <td>NaN</td>\n      <td>NaN</td>\n      <td>NaN</td>\n      <td>NaN</td>\n      <td>NaN</td>\n      <td>NaN</td>\n      <td>NaN</td>\n      <td>NaN</td>\n      <td>NaN</td>\n      <td>NaN</td>\n      <td>NaN</td>\n      <td>NaN</td>\n      <td>NaN</td>\n      <td>NaN</td>\n    </tr>\n    <tr>\n      <th>2</th>\n      <td>890</td>\n      <td>2014-02-22 11:19:50</td>\n      <td>941.0</td>\n      <td>2014-02-22 11:19:50</td>\n      <td>3847.0</td>\n      <td>2014-02-22 11:19:51</td>\n      <td>941.0</td>\n      <td>2014-02-22 11:19:51</td>\n      <td>942.0</td>\n      <td>2014-02-22 11:19:51</td>\n      <td>3846.0</td>\n      <td>2014-02-22 11:19:51</td>\n      <td>3847.0</td>\n      <td>2014-02-22 11:19:52</td>\n      <td>3846.0</td>\n      <td>2014-02-22 11:19:52</td>\n      <td>1516.0</td>\n      <td>2014-02-22 11:20:15</td>\n      <td>1518.0</td>\n      <td>2014-02-22 11:20:16</td>\n    </tr>\n    <tr>\n      <th>3</th>\n      <td>14769</td>\n      <td>2013-12-16 16:40:17</td>\n      <td>39.0</td>\n      <td>2013-12-16 16:40:18</td>\n      <td>14768.0</td>\n      <td>2013-12-16 16:40:19</td>\n      <td>14769.0</td>\n      <td>2013-12-16 16:40:19</td>\n      <td>37.0</td>\n      <td>2013-12-16 16:40:19</td>\n      <td>39.0</td>\n      <td>2013-12-16 16:40:19</td>\n      <td>14768.0</td>\n      <td>2013-12-16 16:40:20</td>\n      <td>14768.0</td>\n      <td>2013-12-16 16:40:21</td>\n      <td>14768.0</td>\n      <td>2013-12-16 16:40:22</td>\n      <td>14768.0</td>\n      <td>2013-12-16 16:40:24</td>\n    </tr>\n    <tr>\n      <th>4</th>\n      <td>782</td>\n      <td>2014-03-28 10:52:12</td>\n      <td>782.0</td>\n      <td>2014-03-28 10:52:42</td>\n      <td>782.0</td>\n      <td>2014-03-28 10:53:12</td>\n      <td>782.0</td>\n      <td>2014-03-28 10:53:42</td>\n      <td>782.0</td>\n      <td>2014-03-28 10:54:12</td>\n      <td>782.0</td>\n      <td>2014-03-28 10:54:42</td>\n      <td>782.0</td>\n      <td>2014-03-28 10:55:12</td>\n      <td>782.0</td>\n      <td>2014-03-28 10:55:42</td>\n      <td>782.0</td>\n      <td>2014-03-28 10:56:12</td>\n      <td>782.0</td>\n      <td>2014-03-28 10:56:42</td>\n    </tr>\n    <tr>\n      <th>5</th>\n      <td>22</td>\n      <td>2014-02-28 10:53:05</td>\n      <td>177.0</td>\n      <td>2014-02-28 10:55:22</td>\n      <td>175.0</td>\n      <td>2014-02-28 10:55:22</td>\n      <td>178.0</td>\n      <td>2014-02-28 10:55:23</td>\n      <td>177.0</td>\n      <td>2014-02-28 10:55:23</td>\n      <td>178.0</td>\n      <td>2014-02-28 10:55:59</td>\n      <td>175.0</td>\n      <td>2014-02-28 10:55:59</td>\n      <td>177.0</td>\n      <td>2014-02-28 10:55:59</td>\n      <td>177.0</td>\n      <td>2014-02-28 10:57:06</td>\n      <td>178.0</td>\n      <td>2014-02-28 10:57:11</td>\n    </tr>\n  </tbody>\n</table>\n</div>"
     },
     "metadata": {},
     "execution_count": 83
    }
   ],
   "source": [
    "DF_Full.head(5)"
   ]
  },
  {
   "cell_type": "code",
   "execution_count": 84,
   "metadata": {},
   "outputs": [],
   "source": [
    "#Фичаинжиниринг\n",
    "time = ['time%s' % i for i in range(1,11)]\n",
    "DF_Full = DF_Full.drop(time, axis=1)"
   ]
  },
  {
   "cell_type": "code",
   "execution_count": 98,
   "metadata": {},
   "outputs": [],
   "source": [
    "DF_Full=DF_Full.fillna(0)\n",
    "DF_Full = preprocessing.OneHotEncoder().fit_transform(DF_Full)"
   ]
  },
  {
   "cell_type": "code",
   "execution_count": 100,
   "metadata": {},
   "outputs": [
    {
     "output_type": "execute_result",
     "data": {
      "text/plain": [
       "<336358x183199 sparse matrix of type '<class 'numpy.float64'>'\n",
       "\twith 3363580 stored elements in Compressed Sparse Row format>"
      ]
     },
     "metadata": {},
     "execution_count": 100
    }
   ],
   "source": [
    "DF_Full"
   ]
  },
  {
   "cell_type": "code",
   "execution_count": 68,
   "metadata": {},
   "outputs": [
    {
     "output_type": "execute_result",
     "data": {
      "text/plain": [
       "18390"
      ]
     },
     "metadata": {},
     "execution_count": 68
    }
   ],
   "source": [
    "DF_Full.site1.nunique()"
   ]
  },
  {
   "cell_type": "code",
   "execution_count": null,
   "metadata": {},
   "outputs": [],
   "source": []
  },
  {
   "cell_type": "code",
   "execution_count": null,
   "metadata": {},
   "outputs": [],
   "source": []
  },
  {
   "cell_type": "code",
   "execution_count": null,
   "metadata": {},
   "outputs": [],
   "source": []
  },
  {
   "cell_type": "code",
   "execution_count": null,
   "metadata": {},
   "outputs": [],
   "source": []
  },
  {
   "cell_type": "code",
   "execution_count": null,
   "metadata": {},
   "outputs": [],
   "source": []
  },
  {
   "cell_type": "code",
   "execution_count": null,
   "metadata": {},
   "outputs": [],
   "source": [
    "#Отсоединение измененной Обучающей выборки от измененной целой и обучение моделей "
   ]
  },
  {
   "cell_type": "code",
   "execution_count": 101,
   "metadata": {},
   "outputs": [
    {
     "output_type": "execute_result",
     "data": {
      "text/plain": [
       "<253561x183199 sparse matrix of type '<class 'numpy.float64'>'\n",
       "\twith 2535610 stored elements in Compressed Sparse Row format>"
      ]
     },
     "metadata": {},
     "execution_count": 101
    }
   ],
   "source": [
    "X = DF_Full[:253561]\n",
    "X"
   ]
  },
  {
   "cell_type": "code",
   "execution_count": 102,
   "metadata": {},
   "outputs": [],
   "source": [
    "y = train_df.target"
   ]
  },
  {
   "cell_type": "code",
   "execution_count": 103,
   "metadata": {},
   "outputs": [],
   "source": [
    "X_train, X_test, y_train, y_test = train_test_split(X, y, train_size=0.8, random_state=17)"
   ]
  },
  {
   "cell_type": "code",
   "execution_count": null,
   "metadata": {},
   "outputs": [],
   "source": [
    "МОДЕЛИ:"
   ]
  },
  {
   "cell_type": "code",
   "execution_count": 109,
   "metadata": {},
   "outputs": [],
   "source": [
    "Logistic1 = LogisticRegression(C=1.0, n_jobs=-1)"
   ]
  },
  {
   "cell_type": "code",
   "execution_count": 110,
   "metadata": {},
   "outputs": [],
   "source": [
    "sgd1 = SGDClassifier(random_state=17, max_iter=500, class_weight='balanced', loss='log')"
   ]
  },
  {
   "cell_type": "code",
   "execution_count": null,
   "metadata": {},
   "outputs": [],
   "source": []
  },
  {
   "cell_type": "code",
   "execution_count": 124,
   "metadata": {},
   "outputs": [],
   "source": [
    "def Modelauc (model1, model2, X_train, X_test, y_train, y_test):\n",
    "    pok = []\n",
    "    model_list = [model1, model2]\n",
    "    for model in model_list:\n",
    "        model.fit(X_train, y_train)\n",
    "        #ab = model.predict_proba(X_test)\n",
    "        a = roc_auc_score(y_test, model.predict_proba(X_test)[:, 1]);\n",
    "        b = precision_score(y_test, model.predict(X_test));\n",
    "        c = recall_score(y_test, model.predict(X_test));\n",
    "\n",
    "        pok.append(model.predict_proba(X_test)[:, 1]);\n",
    "\n",
    "        print('For model', str(model)[0:11], 'ROC_AUC=', a)\n",
    "        print('For model', str(model)[0:11], 'Prec=', b)\n",
    "        print('For model', str(model)[0:11], 'Recall=', c)\n",
    "        print('____________________________________________________')\n",
    "        print('                                                    ')\n",
    "    # return(pok)\n",
    "\n",
    "    tablet = pd.DataFrame({'aa':pok[0], 'ab': pok[1]})\n",
    "    tablet['Res'] = (tablet.aa + tablet.ab)/2\n",
    "    print(tablet)\n",
    "    print(roc_auc_score(y_test, tablet['Res']))\n",
    "\n",
    "   "
   ]
  },
  {
   "cell_type": "code",
   "execution_count": 125,
   "metadata": {},
   "outputs": [
    {
     "output_type": "stream",
     "name": "stdout",
     "text": [
      "For model LogisticReg ROC_AUC= 0.9383363558557221\n",
      "For model LogisticReg Prec= 0.7297297297297297\n",
      "For model LogisticReg Recall= 0.06178489702517163\n",
      "____________________________________________________\n",
      "                                                    \n",
      "For model SGDClassifi ROC_AUC= 0.9317483281758379\n",
      "For model SGDClassifi Prec= 0.06935927257348276\n",
      "For model SGDClassifi Recall= 0.7505720823798627\n",
      "____________________________________________________\n",
      "                                                    \n",
      "             aa        ab       Res\n",
      "0      0.001761  0.090664  0.046212\n",
      "1      0.008673  0.218640  0.113656\n",
      "2      0.000600  0.024489  0.012544\n",
      "3      0.000326  0.013665  0.006995\n",
      "4      0.000078  0.002968  0.001523\n",
      "...         ...       ...       ...\n",
      "50708  0.009322  0.263784  0.136553\n",
      "50709  0.003351  0.152095  0.077723\n",
      "50710  0.001568  0.054443  0.028006\n",
      "50711  0.000393  0.018858  0.009626\n",
      "50712  0.000066  0.002583  0.001324\n",
      "\n",
      "[50713 rows x 3 columns]\n",
      "0.9344063333329087\n"
     ]
    }
   ],
   "source": [
    "Modelauc(Logistic1, sgd1, X_train, X_test, y_train, y_test)"
   ]
  },
  {
   "cell_type": "code",
   "execution_count": null,
   "metadata": {},
   "outputs": [],
   "source": [
    "#Отсоединение измененной тестовой выборки от измененной целой"
   ]
  },
  {
   "cell_type": "code",
   "execution_count": 106,
   "metadata": {},
   "outputs": [
    {
     "output_type": "execute_result",
     "data": {
      "text/plain": [
       "<82797x183199 sparse matrix of type '<class 'numpy.float64'>'\n",
       "\twith 827970 stored elements in Compressed Sparse Row format>"
      ]
     },
     "metadata": {},
     "execution_count": 106
    }
   ],
   "source": [
    "Finial_Test = DF_Full[253561:]\n",
    "Finial_Test"
   ]
  },
  {
   "cell_type": "code",
   "execution_count": 108,
   "metadata": {},
   "outputs": [],
   "source": [
    "pd.DataFrame({'session_id': range(1, 82798), 'target': Logistic1.predict_proba(Finial_Test)[:, 1]}).set_index('session_id').to_csv('Try1_Catch_Alice.csv')"
   ]
  },
  {
   "cell_type": "code",
   "execution_count": null,
   "metadata": {},
   "outputs": [],
   "source": []
  }
 ]
}