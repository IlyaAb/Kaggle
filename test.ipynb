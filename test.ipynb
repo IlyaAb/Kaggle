{
 "metadata": {
  "language_info": {
   "codemirror_mode": {
    "name": "ipython",
    "version": 3
   },
   "file_extension": ".py",
   "mimetype": "text/x-python",
   "name": "python",
   "nbconvert_exporter": "python",
   "pygments_lexer": "ipython3",
   "version": "3.8.1-final"
  },
  "orig_nbformat": 2,
  "kernelspec": {
   "name": "python3",
   "display_name": "Python 3",
   "language": "python"
  }
 },
 "nbformat": 4,
 "nbformat_minor": 2,
 "cells": [
  {
   "cell_type": "code",
   "execution_count": 7,
   "metadata": {},
   "outputs": [],
   "source": [
    "import pandas as pd\n",
    "import numpy as np"
   ]
  },
  {
   "cell_type": "code",
   "execution_count": 2,
   "metadata": {},
   "outputs": [],
   "source": [
    "data = pd.DataFrame({\n",
    "    'client_id' : [5392, 9581, 7250, 8619, 6573],\n",
    "    'amount' : [42331, 88420, 1714, 80572, 57549],\n",
    "    'date' : [1558425830, 1585429536, 1585427761, 1585427077, 1585426290]\n",
    "\n",
    "})"
   ]
  },
  {
   "cell_type": "code",
   "execution_count": 3,
   "metadata": {},
   "outputs": [],
   "source": [
    "data['g'] = (data.client_id+data.amount)/2"
   ]
  },
  {
   "cell_type": "code",
   "execution_count": 4,
   "metadata": {},
   "outputs": [
    {
     "output_type": "execute_result",
     "data": {
      "text/plain": [
       "   client_id  amount        date        g\n",
       "0       5392   42331  1558425830  23861.5\n",
       "1       9581   88420  1585429536  49000.5\n",
       "2       7250    1714  1585427761   4482.0\n",
       "3       8619   80572  1585427077  44595.5\n",
       "4       6573   57549  1585426290  32061.0"
      ],
      "text/html": "<div>\n<style scoped>\n    .dataframe tbody tr th:only-of-type {\n        vertical-align: middle;\n    }\n\n    .dataframe tbody tr th {\n        vertical-align: top;\n    }\n\n    .dataframe thead th {\n        text-align: right;\n    }\n</style>\n<table border=\"1\" class=\"dataframe\">\n  <thead>\n    <tr style=\"text-align: right;\">\n      <th></th>\n      <th>client_id</th>\n      <th>amount</th>\n      <th>date</th>\n      <th>g</th>\n    </tr>\n  </thead>\n  <tbody>\n    <tr>\n      <th>0</th>\n      <td>5392</td>\n      <td>42331</td>\n      <td>1558425830</td>\n      <td>23861.5</td>\n    </tr>\n    <tr>\n      <th>1</th>\n      <td>9581</td>\n      <td>88420</td>\n      <td>1585429536</td>\n      <td>49000.5</td>\n    </tr>\n    <tr>\n      <th>2</th>\n      <td>7250</td>\n      <td>1714</td>\n      <td>1585427761</td>\n      <td>4482.0</td>\n    </tr>\n    <tr>\n      <th>3</th>\n      <td>8619</td>\n      <td>80572</td>\n      <td>1585427077</td>\n      <td>44595.5</td>\n    </tr>\n    <tr>\n      <th>4</th>\n      <td>6573</td>\n      <td>57549</td>\n      <td>1585426290</td>\n      <td>32061.0</td>\n    </tr>\n  </tbody>\n</table>\n</div>"
     },
     "metadata": {},
     "execution_count": 4
    }
   ],
   "source": [
    "data"
   ]
  },
  {
   "cell_type": "code",
   "execution_count": 8,
   "metadata": {},
   "outputs": [],
   "source": [
    "a = np.array(data['g'])"
   ]
  },
  {
   "cell_type": "code",
   "execution_count": 9,
   "metadata": {},
   "outputs": [
    {
     "output_type": "execute_result",
     "data": {
      "text/plain": [
       "array([23861.5, 49000.5,  4482. , 44595.5, 32061. ])"
      ]
     },
     "metadata": {},
     "execution_count": 9
    }
   ],
   "source": [
    "a"
   ]
  },
  {
   "cell_type": "code",
   "execution_count": null,
   "metadata": {},
   "outputs": [],
   "source": []
  }
 ]
}